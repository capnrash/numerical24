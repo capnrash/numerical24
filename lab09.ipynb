{
 "cells": [
  {
   "cell_type": "markdown",
   "id": "cf8c6e94-1fc2-42e3-8021-69460fff12df",
   "metadata": {},
   "source": [
    "# Lab 9: Differential Equations\n",
    "\n",
    "Welcome to Lab 09! Throughout the course you will complete a lab assignments like this one. You can't learn technical subjects without hands-on practice, so labs are an important part of the course.\n",
    "\n",
    "Collaborating on labs is more than okay -- it's encouraged. You should rarely remain stuck for more than a few minutes on questions in labs, so ask a neighbor or an instructor for help. Explaining things is beneficial, too -- the best way to solidify your knowledge of a subject is to explain it. You should **not** just copy/paste someone else's code, but rather work together to gain understanding of the task you need to complete. \n",
    "\n",
    "In today's lab, you'll learn:\n",
    "\n",
    "- How to implement Euler's method\n",
    "\n",
    "- How to implement the RK4 method\n",
    "\n",
    "To receive credit for a lab, answer all questions correctly and submit before the deadline.\n",
    "\n",
    "**Due Date:** Monday, May 6, 2024 at 4:59 pm\n",
    "\n",
    "**Collaboration Policy:** Labs are a collaborative activity. While you may talk with others about the labs, we ask that you **write your solutions individually**. If you do discuss the assignments with others **please include their names below**.\n",
    "\n",
    "**Collaborators:** \n",
    "\n",
    "List collaborators here."
   ]
  },
  {
   "cell_type": "markdown",
   "id": "9e022341-42a0-4831-838b-921e276a9f55",
   "metadata": {},
   "source": [
    "Run the cell below to import the required modules."
   ]
  },
  {
   "cell_type": "code",
   "execution_count": 1,
   "id": "d2f9aa1f-9a86-4ac8-8258-71ecaa6e4fb8",
   "metadata": {},
   "outputs": [],
   "source": [
    "import numpy as np\n",
    "import matplotlib.pyplot as plt\n",
    "plt.style.use('seaborn-v0_8-whitegrid')\n",
    "%matplotlib inline"
   ]
  },
  {
   "cell_type": "markdown",
   "id": "a25937db-baa8-4c9a-8f36-bee575efdbe2",
   "metadata": {},
   "source": [
    "Differential equations are relationships between a function and its derivatives, and they are used to model systems in every engineering and science field. For example, a simple differential equation relates the acceleration of a car with its position. Unlike differentiation where analytic solutions can usually be computed, in general finding exact solutions to differential equations is very hard. Therefore, numerical solutions are critical to making these equations useful for designing and understanding engineering and science systems. (Source: [(Numerical Methods with Python)](https://pythonnumericalmethods.berkeley.edu/notebooks/Index.html) )"
   ]
  },
  {
   "cell_type": "markdown",
   "id": "31a8e8a8-5016-4764-bdad-691b5c15dd3d",
   "metadata": {},
   "source": [
    "## 1. Euler's Method\n",
    "\n",
    "Let's write a function to implement Euler's method. Instead of doing it all at one time we will complete it in small sections. For the purpose of this activity, let's suppose that our initial value problem is \n",
    "\n",
    "$$\\frac{dy}{dx}=-y+\\sin(x)\\text{, }y(0)=1$$\n",
    "\n",
    "We will use Euler's method to approximate the value of the function in the interval $[0,10]$ with 100 iterations."
   ]
  },
  {
   "cell_type": "markdown",
   "id": "be2b62aa-245d-4b5e-87a5-25e08d3d2259",
   "metadata": {},
   "source": [
    "**Question 1.** Assign the values for the endpoints of the interval (`x0` and `xn`), the initial $y$-value (`y0`), and the change in $x$. Check your answers with a neighbor before proceeding!"
   ]
  },
  {
   "cell_type": "code",
   "execution_count": null,
   "id": "404a2bb5-c424-47e7-b07f-42018217fee7",
   "metadata": {
    "tags": []
   },
   "outputs": [],
   "source": [
    "x0 = \n",
    "y0 = \n",
    "xn = \n",
    "n = \n",
    "deltax = "
   ]
  },
  {
   "cell_type": "markdown",
   "id": "71816edf-e2ba-4277-8dbc-b7c5632d6b57",
   "metadata": {},
   "source": [
    "We next want to create a vector of length 101 whose entries are our $x-$values. To do this, we enter the following code"
   ]
  },
  {
   "cell_type": "code",
   "execution_count": null,
   "id": "1ec60ae3-8317-4bb5-90f3-10d6e52436f4",
   "metadata": {
    "tags": []
   },
   "outputs": [],
   "source": [
    "x = np.linspace(x0, xn, n+1)\n",
    "x"
   ]
  },
  {
   "cell_type": "markdown",
   "id": "83371960-1462-4832-b027-f6d105c0f749",
   "metadata": {},
   "source": [
    "Now we have vector called `x`, given by \n",
    "\n",
    "```\n",
    "x = [0.0, 0.1, 0.2, ..., 10.]\n",
    "```\n",
    "\n",
    "The next thing we want to do generate the $y-$values. The first thing we do is create an array to store the $y-$values."
   ]
  },
  {
   "cell_type": "code",
   "execution_count": null,
   "id": "a319a97d-3ecb-48de-a857-f2f76a2568c5",
   "metadata": {},
   "outputs": [],
   "source": [
    "y = np.zeros ([n+1])\n",
    "y"
   ]
  },
  {
   "cell_type": "markdown",
   "id": "e7bf76ac-8ae1-4b10-ae8c-4c987af53191",
   "metadata": {},
   "source": [
    "This creates an array `y` with n entries that are all 0.0."
   ]
  },
  {
   "cell_type": "markdown",
   "id": "18cdff3b-0c3c-4efb-b165-082e4537b1a6",
   "metadata": {},
   "source": [
    "**Question 2.** The next thing we want to do is fix this so that the entries are the estimates given by Euler's method. To do this, we use a `for` loop. Fill in the \"...\" in the code section below."
   ]
  },
  {
   "cell_type": "code",
   "execution_count": null,
   "id": "41a63240-d012-4bf8-8873-59e4138e2f34",
   "metadata": {
    "tags": []
   },
   "outputs": [],
   "source": [
    "def f(x,y):\n",
    "    return -y+np.sin(x)\n",
    "\n",
    "y[0] = y0 \n",
    "for i in range(1, n+1): \n",
    "    y[i] = ... \n"
   ]
  },
  {
   "cell_type": "markdown",
   "id": "719e3bf2-6901-4336-bb74-420268d9dc24",
   "metadata": {},
   "source": [
    "We can also use a for loop to print out the data that we’ve generated. Let's only print the first 10 ordered pairs."
   ]
  },
  {
   "cell_type": "code",
   "execution_count": null,
   "id": "002fb5b2-8ec4-4e94-8b36-c1f34eb9c506",
   "metadata": {},
   "outputs": [],
   "source": [
    "for i in range(11): \n",
    "    print (i, \"\\t\", round(x[i], 2), \"\\t\", y[i])"
   ]
  },
  {
   "cell_type": "markdown",
   "id": "e9236273-8980-4496-9d0e-52bbf80c8df8",
   "metadata": {},
   "source": [
    "Finally, to make a graph of our data, we can use the plot function from `matplotlib`."
   ]
  },
  {
   "cell_type": "code",
   "execution_count": null,
   "id": "7a7bc3a8-9131-4da7-97a8-d4268b12251b",
   "metadata": {},
   "outputs": [],
   "source": [
    "plt.scatter(x, y, color = 'black', s = 3) \n",
    "plt.xlabel(\"x\") \n",
    "plt.ylabel(\"y\")\n",
    "plt.title(\"Approximate Solution with Eulers Method\");"
   ]
  },
  {
   "cell_type": "markdown",
   "id": "9282f283-32e2-48e7-bcc9-f06d4aa5a626",
   "metadata": {},
   "source": [
    "**Question 3.** The solution to $\\frac{dy}{dx}=-y+\\sin(x)\\text{, }y(0)=1$ is\n",
    "$$y=\\frac{e^{-x}}{2} (e^{x}\\sin(x)-e^{x}\\cos(x)+3) $$\n",
    "Use this information to find the error associated with the Euler approximation when $x=10$."
   ]
  },
  {
   "cell_type": "markdown",
   "id": "e10ee607-f1c2-450d-97db-65a8625d690d",
   "metadata": {},
   "source": [
    "*use this cell if you need a markdown cell for your response to Q3*"
   ]
  },
  {
   "cell_type": "code",
   "execution_count": null,
   "id": "6fdbaa6c-c185-49d7-adf8-80eefed3585c",
   "metadata": {},
   "outputs": [],
   "source": [
    "# use this cell if you need a code cell for Q3\n"
   ]
  },
  {
   "cell_type": "markdown",
   "id": "4213a89c-8351-43f5-bc53-0bfaa8fd4341",
   "metadata": {},
   "source": [
    "## 2. Runge-Kutta\n",
    "\n",
    "The Runge-Kutta methods evaluate the differential equations multiple times per step to achieve higher order errors. The most popular is the Runge-Kutta method of order 4 (abbreviated \"RK4\"). The formula for RK4 is\n",
    "\n",
    "$y_{n+1}=y_n+\\frac{h}{6}k_1+\\frac{h}{3}k_2+\\frac{h}{3}k_3+\\frac{h}{6}k_4 =y_n+ \\frac{h}{6}(k_1+2k_2+2k_3+k_4)$\n",
    "\n",
    "where \n",
    "\n",
    "$k_1= f(x_n,y_n)$\n",
    "\n",
    "$k_2= f(x_n+\\frac{1}{2}h, y_n+\\frac{h}{2}k_1)$\n",
    "\n",
    "$k_3= f(x_n+\\frac{1}{2}h, y_n+\\frac{h}{2}k_2)$\n",
    "\n",
    "$k_4= f(x_n+h, y_n+h k_3)$\n",
    "\n"
   ]
  },
  {
   "cell_type": "markdown",
   "id": "a492229e-0f72-4bcd-8e55-015cf8a12512",
   "metadata": {},
   "source": [
    "**Question 4.** Write a function to implement the fourth order Runge-Kutta method. Then use your RK4 function to solve the same differential equation from above:\n",
    "\n",
    "$$\\frac{dy}{dx}=-y+\\sin(x)\\text{, }y(0)=1$$\n",
    "\n",
    "Again, use the initial condition $(0,1)$ and step size $h=0.1$.\n",
    "\n",
    "Show a graph of the solution and report the $y$-coordinate when $x=10.0$."
   ]
  },
  {
   "cell_type": "code",
   "execution_count": null,
   "id": "a529e25f-d2ea-4725-915f-acec588532c8",
   "metadata": {
    "tags": []
   },
   "outputs": [],
   "source": [
    "# use this cell for your RK4 code for Q4\n",
    "\n"
   ]
  },
  {
   "cell_type": "markdown",
   "id": "446343ba-7b0b-405e-8be7-ca57539d7589",
   "metadata": {},
   "source": [
    "## 3. Error\n",
    "\n",
    "Recall the solution to $\\frac{dy}{dx}=-y+\\sin(x)\\text{, }y(0)=1$ is\n",
    "$$y=\\frac{e^{-x}}{2} (e^{x}\\sin(x)-e^{x}\\cos(x)+3) $$\n",
    "\n"
   ]
  },
  {
   "cell_type": "markdown",
   "id": "8f375a35-8063-4009-bc29-3b57775437f1",
   "metadata": {},
   "source": [
    "**Question 5.** Re-run your RK4 method with a step size of $h=0.05$. Now how much error is there associated with the approximate $y$-value when $x=10.0$? Is this what you expect, based on what you know about the error order for RK4?\n"
   ]
  },
  {
   "cell_type": "code",
   "execution_count": null,
   "id": "0e9c0a52-574a-4266-bbe1-035e50e88f1e",
   "metadata": {},
   "outputs": [],
   "source": [
    "# use this cell for any code you need for Q5\n",
    "\n"
   ]
  },
  {
   "cell_type": "markdown",
   "id": "0e419725-6e47-4dbf-808d-2ba986473773",
   "metadata": {},
   "source": [
    "*use this cell if you need a markdown cell for your response to Q5*"
   ]
  },
  {
   "cell_type": "markdown",
   "id": "5a2dc936-4aad-4c5a-be78-24c9302b8b93",
   "metadata": {
    "tags": []
   },
   "source": [
    "## 4. Submitting your work\n",
    "You're done with Lab 09! Submit your work by doing the following:\n",
    "\n",
    "* Save your notebook\n",
    "\n",
    "* Restart the kernel and run all cells.\n",
    "\n",
    "* Right-click the `lab09` file in the navigation pane, then click \"download.\"\n",
    "\n",
    "* Upload the file you just downloaded to the Lab 09 assignment to Gradescope for Grading."
   ]
  },
  {
   "cell_type": "code",
   "execution_count": null,
   "id": "8e2251fd-9a7e-499e-a31e-6478586e3318",
   "metadata": {},
   "outputs": [],
   "source": []
  }
 ],
 "metadata": {
  "kernelspec": {
   "display_name": "Python 3 (ipykernel)",
   "language": "python",
   "name": "python3"
  },
  "language_info": {
   "codemirror_mode": {
    "name": "ipython",
    "version": 3
   },
   "file_extension": ".py",
   "mimetype": "text/x-python",
   "name": "python",
   "nbconvert_exporter": "python",
   "pygments_lexer": "ipython3",
   "version": "3.11.5"
  }
 },
 "nbformat": 4,
 "nbformat_minor": 5
}
