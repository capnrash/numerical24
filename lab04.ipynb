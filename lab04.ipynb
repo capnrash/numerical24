{
 "cells": [
  {
   "cell_type": "markdown",
   "id": "cf8c6e94-1fc2-42e3-8021-69460fff12df",
   "metadata": {},
   "source": [
    "# Lab 4: Root-finding Methods\n",
    "\n",
    "Welcome to Lab 04! Throughout the course you will complete a lab assignments like this one. You can't learn technical subjects without hands-on practice, so labs are an important part of the course.\n",
    "\n",
    "Collaborating on labs is more than okay -- it's encouraged. You should rarely remain stuck for more than a few minutes on questions in labs, so ask a neighbor or an instructor for help. Explaining things is beneficial, too -- the best way to solidify your knowledge of a subject is to explain it. You should **not** just copy/paste someone else's code, but rather work together to gain understanding of the task you need to complete. \n",
    "\n",
    "In today's lab, you'll learn:\n",
    "\n",
    "- Learn about Lambda functions\n",
    "\n",
    "- Implement Newton & Secant Methods\n",
    "\n",
    "- Compare & contrast our 3 root-finding methods\n",
    "\n",
    "To receive credit for a lab, answer all questions correctly and submit before the deadline.\n",
    "\n",
    "**Due Date:** Friday, March 3, 2023 at 4:59 pm\n",
    "\n",
    "**Collaboration Policy:** Labs are a collaborative activity. While you may talk with others about the labs, we ask that you **write your solutions individually**. If you do discuss the assignments with others **please include their names below**.\n",
    "\n",
    "**Collaborators:** \n",
    "\n",
    "List collaborators here."
   ]
  },
  {
   "cell_type": "markdown",
   "id": "17faa309-dd74-4428-94e5-2fa907ac9e2f",
   "metadata": {},
   "source": []
  },
  {
   "cell_type": "markdown",
   "id": "5990dd18-6e26-49f9-9321-ddf9ec86a58b",
   "metadata": {
    "tags": []
   },
   "source": [
    "## 0. Lambda Functions\n",
    "\n",
    "Sometimes we want to write a small function or we want a function that we don't need to keep because we aren't going to use it later. In python we can write functions using a shorthand technique. These small, unnamed (anonymous) functions are called lambda functions. For example, suppose we want to square a number using a lambda function (I know it seems silly but humor me). Here's how we could do this using a lambda function:\n",
    "\n",
    "```\n",
    "square_biz = lambda x : x**2\n",
    "```\n",
    "\n",
    "The `square_biz` lambda function is written in one line of code. The argument is `x` and the `:` separates the argument form the expression. Notice that unlike the functions from the previous lab we don't need the keyword `def`. If we wanted to use our lambda function we would enter\n",
    "\n",
    "```\n",
    "square_biz(5)\n",
    "```\n",
    "\n",
    "and our function will return the value 25 (lambda functions can't use a `return` statement or some other keywords).\n",
    "\n",
    "Let's try it."
   ]
  },
  {
   "cell_type": "markdown",
   "id": "e5faa8b4-608a-4527-b61d-07ab01123f1f",
   "metadata": {},
   "source": [
    "**Question 1.** Write a **lambda** function named `f` that will compute the value of $f(x)=x^6-x-1$."
   ]
  },
  {
   "cell_type": "code",
   "execution_count": null,
   "id": "2f963f5a-25ac-4559-adee-b06d9267599b",
   "metadata": {
    "tags": []
   },
   "outputs": [],
   "source": [
    "f = ..."
   ]
  },
  {
   "cell_type": "markdown",
   "id": "875bf878-ab5d-4293-974d-acf8568fec92",
   "metadata": {},
   "source": [
    "Perhaps we want to find values of the derivative for $f(x)=x^6-x-1$."
   ]
  },
  {
   "cell_type": "markdown",
   "id": "c46d23ee-bc19-4a5f-8efb-0fe3f3845aee",
   "metadata": {},
   "source": [
    "**Question 2.** Write a **lambda** function named `Df` that will compute the value of $f'(x)$, where $f(x)=x^6-x-1$.."
   ]
  },
  {
   "cell_type": "code",
   "execution_count": null,
   "id": "da45dfef-4df0-4fef-9a60-7b5484951c23",
   "metadata": {
    "tags": []
   },
   "outputs": [],
   "source": [
    "Df = ..."
   ]
  },
  {
   "cell_type": "markdown",
   "id": "bdd56f1f-ed98-45f3-b806-f2d2061e50d3",
   "metadata": {
    "tags": []
   },
   "source": [
    "We can also plot lambda functions. run the cell below to load the `NumPy` and `matplotlib` modules."
   ]
  },
  {
   "cell_type": "code",
   "execution_count": null,
   "id": "517552c2-c7a5-47fb-a1ca-160224fa7a2a",
   "metadata": {},
   "outputs": [],
   "source": [
    "import numpy as np\n",
    "import matplotlib.pyplot as plt\n",
    "plt.style.use('seaborn-whitegrid')\n",
    "%matplotlib inline"
   ]
  },
  {
   "cell_type": "markdown",
   "id": "fb179141-1243-4c2e-a622-ba64f34ebacc",
   "metadata": {},
   "source": [
    "Now let's plot $f(x)=x^6-x-1$."
   ]
  },
  {
   "cell_type": "code",
   "execution_count": null,
   "id": "d5050e82-f58f-497d-815e-efe92a70516b",
   "metadata": {},
   "outputs": [],
   "source": [
    "x = np.arange(-1,1.5,0.05)\n",
    "f = lambda x: x**6-x-1\n",
    "plt.plot(x, f(x), color = 'black', ms = 3);"
   ]
  },
  {
   "cell_type": "markdown",
   "id": "4760c053-8d62-4b79-9f34-e5316646442d",
   "metadata": {
    "tags": []
   },
   "source": [
    "There seems to be a root somewhere on the interval $[-1.0, -0.5]$. Let's see if we can implement our algorithms to approximate its value. "
   ]
  },
  {
   "cell_type": "markdown",
   "id": "c8b63bf0-16c8-4474-9ac1-b2913bca5b35",
   "metadata": {
    "tags": []
   },
   "source": [
    "# 1. Review of the Bisection Method\n",
    "\n",
    "Now that we know how to use lambda functions we can update the way we wrote our `bisection_method` function. We can now pass the function in as a parameter."
   ]
  },
  {
   "cell_type": "code",
   "execution_count": null,
   "id": "eba9c4cd-3527-4e76-a685-423cf5a81d62",
   "metadata": {},
   "outputs": [],
   "source": [
    "def bisection_method(f, a, b, iterations = 25, tol = 1e-6):\n",
    "    \"\"\"\n",
    "    Parameters\n",
    "    ----------\n",
    "    f               : Function for which we are searching for a solution f(x)=0\n",
    "    a, b            : The endpoints of the interval\n",
    "    iterations = 25 : Set the maximum number of iterations for the loop\n",
    "    tol = 1e-6      : Set the level of error tolerance\n",
    "    \n",
    "    Returns\n",
    "    -------\n",
    "    The approximation for the root (if found)\n",
    "    \"\"\"\n",
    "    \n",
    "    if f(a)*f(b) >= 0:\n",
    "        print(\"A root is not guaranteed in this interval.\")\n",
    "        return 0\n",
    "    \n",
    "    for n in range(iterations):\n",
    "        c = (a + b)/2.0\n",
    "                          \n",
    "        if f(a)*f(c) > 0:\n",
    "            a = c\n",
    "        else:\n",
    "            b = c\n",
    "            \n",
    "        if abs(b - a) < tol:\n",
    "            break\n",
    "\n",
    "    print('Number of iterations:', n)\n",
    "    return c\n"
   ]
  },
  {
   "cell_type": "markdown",
   "id": "d437ecdb-e808-4d6f-b9ba-701c94c0ee12",
   "metadata": {},
   "source": [
    "**Question 3.** Use the `bisection_method` function to approximate the solution to $f(x)=x^6-x-1$. "
   ]
  },
  {
   "cell_type": "code",
   "execution_count": null,
   "id": "9aed81fe-1f88-4488-80d9-4a5a14e04208",
   "metadata": {
    "tags": []
   },
   "outputs": [],
   "source": [
    "f = ...\n",
    "root = bisection_method(f,...\n",
    "print(root)"
   ]
  },
  {
   "cell_type": "markdown",
   "id": "2a0d30f8-4a0f-497e-9ce0-855b73b32c3f",
   "metadata": {},
   "source": [
    "## 2. Newton's Method\n",
    "\n",
    "[Newton's method](https://en.wikipedia.org/wiki/Newton%27s_method) is a root finding method that uses linear approximation. In particular, we make an initial guess ($x_0$) for the root of an equation ($f(x)=0$), compute the linear approximation of $f(x)$ at $x_0$ and then find the $x-$intercept of the linear approximation. The algorithm we learned in class is \n",
    "\n",
    "$$x_{n+1}=x_n-\\frac{f\\left(x_n\\right)}{f'\\left(x_n\\right)}$$\n",
    "\n",
    "which converges (hopefully!) to an approximate solution to the equation $f(x)=0$."
   ]
  },
  {
   "cell_type": "markdown",
   "id": "ef94f0c9-d7e4-4f2d-938c-772d5b4cc6ad",
   "metadata": {},
   "source": [
    "Below is a function that uses Newton's method to approximate a solution to $f(x)=0$. Read through the description and code. Ask me or a neighbor if you have questions about how it works."
   ]
  },
  {
   "cell_type": "code",
   "execution_count": null,
   "id": "7d7f616c-8fa5-4f18-8ca4-ee2f71e1c8e2",
   "metadata": {},
   "outputs": [],
   "source": [
    "def newtons_method(f, Df, x0, iterations = 25, tol = 1e-6):\n",
    "    \"\"\"\n",
    "    Parameters\n",
    "    ----------\n",
    "    f               : Function for which we are searching for a solution f(x)=0.\n",
    "    Df              : Derivative of f(x)\n",
    "    x0              : Initial guess for a solution f(x)=0\n",
    "    iterations = 25 : Set the aximum number of iterations for the loop\n",
    "    tol = 1e-6      : Set the level of tolerance for a stopping criteria\n",
    "\n",
    "    Returns\n",
    "    -------\n",
    "    The approximation of the root (if found)\n",
    "    \"\"\"\n",
    "    xn = x0\n",
    "    for n in range(0, iterations):\n",
    "        Dfxn = Df(xn)\n",
    "        if Dfxn == 0:\n",
    "            print('Zero derivative. No solution found.')\n",
    "            return None\n",
    "        nextx = xn - f(xn)/Dfxn\n",
    "        if abs(nextx-xn)<tol:\n",
    "            print('Found solution after',n,'iterations.')\n",
    "            return nextx\n",
    "        xn = nextx\n",
    "    print('Exceeded maximum iterations. No solution found.')\n",
    "    return None"
   ]
  },
  {
   "cell_type": "markdown",
   "id": "6ca6da50-ecb5-4bf5-b4e9-2d0ad21f0a2a",
   "metadata": {},
   "source": [
    "Now that you've read through the description of the function and the looked over the code, let's use `newtons_method`."
   ]
  },
  {
   "cell_type": "markdown",
   "id": "fa38c827-4214-4ba5-a0d2-0f21edfde3fe",
   "metadata": {},
   "source": [
    "**Question 4.** Use the `newtons_method` function to approximate the solution to the function $x^2-x-1$."
   ]
  },
  {
   "cell_type": "code",
   "execution_count": null,
   "id": "e226637a-4017-4a3e-b002-b708ec4beae6",
   "metadata": {
    "tags": []
   },
   "outputs": [],
   "source": [
    "p = ...\n",
    "Dp = ...\n",
    "root = newtons_method(...\n",
    "print(root)\n"
   ]
  },
  {
   "cell_type": "markdown",
   "id": "e6d0d95d-91d5-4063-810d-4c1bed428b62",
   "metadata": {},
   "source": [
    "### Supergolden Ratio\n",
    "\n",
    "In mathematics, two quantities are in the supergolden ratio if the quotient of the larger number divided by the smaller one is equal to\n",
    "\n",
    "$${\\displaystyle \\psi ={\\frac {1+{\\sqrt[{3}]{\\frac {29+3{\\sqrt {93}}}{2}}}+{\\sqrt[{3}]{\\frac {29-3{\\sqrt {93}}}{2}}}}{3}}}$$\n",
    "\n",
    "which is the only real solution to the equation $x^{3}=x^{2}+1$. [(Wikipedia)](https://en.wikipedia.org/wiki/Supergolden_ratio)\n",
    "\n",
    "Let's test our function `newtons_method` on the polynomial $f(x)=x^3-x^2-1$ to approximate the super golden ratio."
   ]
  },
  {
   "cell_type": "markdown",
   "id": "6c530b91-34a2-4a5f-9840-474a01e33b43",
   "metadata": {},
   "source": [
    "**Question 5.** Use the `newtons_method` function to approximate the solution to the function $x^3-x^2-1$."
   ]
  },
  {
   "cell_type": "code",
   "execution_count": null,
   "id": "d3d3e25c-dc17-4aee-af29-7fe0c6a0982e",
   "metadata": {
    "tags": []
   },
   "outputs": [],
   "source": []
  },
  {
   "cell_type": "markdown",
   "id": "5e376621-4332-4bf8-a6bf-2cc15412735a",
   "metadata": {},
   "source": [
    "Hopefully you saw Newton find a root in 5 iterations, which I hope you'll agree is pretty fast! Next we're going to explore in more detail how the error associated with Newton's Method behaves.\n",
    "\n",
    "Since we know the real solution to $x^3-x^2-1=0$ we can make a table of values (including errors) for the first few iterations it took our algorithm to approximate the solution. \n",
    "\n",
    "First lets get the value of the only real solution (i.e. the supergolden ration) stored in a python variable. You may find it useful to use numpy for your calculations."
   ]
  },
  {
   "cell_type": "markdown",
   "id": "9e6dcecf-2599-44ec-88b7-5ac4a1245447",
   "metadata": {},
   "source": [
    "**Question 6.** Write a python expression to calculate the value of the supergolden ratio."
   ]
  },
  {
   "cell_type": "code",
   "execution_count": null,
   "id": "726b7fee-5fa2-4e9d-9db7-4edd9ef309e1",
   "metadata": {
    "tags": []
   },
   "outputs": [],
   "source": [
    "sg_ratio = ...\n",
    "print(sg_ratio)"
   ]
  },
  {
   "cell_type": "markdown",
   "id": "bed78284-51c4-4116-9e78-026885fec4ac",
   "metadata": {
    "tags": []
   },
   "source": [
    "Now we can use our value of alpha ($\\alpha$) to make our table.\n",
    "\n",
    "**Note:** The value for `sg_ratio` is our value of the \"true\" root alpha ($\\alpha$).\n",
    "\n",
    "Run the cell below so we can use the \"new\" Newton function that will return a list of $x-$values from Newton's method."
   ]
  },
  {
   "cell_type": "code",
   "execution_count": null,
   "id": "bbe67886-5909-4dda-a7a3-66407e3b043e",
   "metadata": {},
   "outputs": [],
   "source": [
    "def newtons_method_values(f, Df, x0, iterations = 25, tol = 1e-6):\n",
    "    \"\"\"\n",
    "    Parameters\n",
    "    ----------\n",
    "    f               : Function for which we are searching for a solution f(x)=0.\n",
    "    Df              : Derivative of f(x)\n",
    "    x0              : Initial guess for a solution f(x)=0\n",
    "    iterations = 25 : Set the aximum number of iterations for the loop\n",
    "    tol = 1e-6      : Set the level of tolerance for a stopping criteria\n",
    "\n",
    "    Returns\n",
    "    -------\n",
    "    The approximation of the root (if found)\n",
    "    \"\"\"\n",
    "    xis = [x0]\n",
    "    xn = x0\n",
    "    for n in range(0, iterations):\n",
    "        Dfxn = Df(xn)\n",
    "        if Dfxn == 0:\n",
    "            print('Zero derivative. No solution found.')\n",
    "            return None\n",
    "        nextx = xn - f(xn)/Dfxn\n",
    "        xis.append(nextx)\n",
    "        if abs(nextx-xn)<tol:\n",
    "            print('Found solution after',n,'iterations.')\n",
    "            return xis\n",
    "        xn = nextx\n",
    "    print('Exceeded maximum iterations. No solution found.')\n",
    "    return xis\n",
    "    "
   ]
  },
  {
   "cell_type": "markdown",
   "id": "2a868324-63c5-4596-a42a-1ac0f34be95e",
   "metadata": {},
   "source": [
    "Now let's make a table that includes the x-values as we iterate, the actual error, as well as two important ratios: One of these is the *ratio of the most-recent error to the previous error*. The other ratio we're interested in is the most-recent error to the **square** of the previous error. (Though we'll learn more in class soon why these ratios are important, go ahead and think about why you think these ratios might be important and/or what they mean.)\n",
    "\n",
    "Run the cell below."
   ]
  },
  {
   "cell_type": "code",
   "execution_count": null,
   "id": "d65a3ef8-fa99-43c2-a4c1-3c37c6da291b",
   "metadata": {},
   "outputs": [],
   "source": [
    "p = lambda x : x**3-x**2-1\n",
    "Dp = lambda x: 3*x**2-2*x\n",
    "xis = newtons_method_values(p, Dp, 1,25,1e-6)\n",
    "print(\"{:<8} {:<25} {:<25} {:<30} {:<30}\".format(\"n\", \"x_n\", \"alpha-x_n\", \"|alpha-x_{n}|/|alpha-x_{n-1}|\", \"|alpha-x_{n}|/|alpha-x_{n-1}|^2\"))\n",
    "for i in range(len(xis)):\n",
    "    if i == 0:\n",
    "        print(\"{:<8} {:<25} {:<25}\".format(i, xis[i], abs(sg_ratio-xis[i])))\n",
    "    else:\n",
    "        print(\"{:<8} {:<25} {:<25} {:<30} {:<30}\".format(i, xis[i],abs(sg_ratio-xis[i]), abs((sg_ratio-xis[i])/(sg_ratio-xis[i-1])), abs(sg_ratio-xis[i])/(sg_ratio-xis[i-1])**2))"
   ]
  },
  {
   "cell_type": "markdown",
   "id": "3ecdc96b-d3d0-4b39-9c1f-a02ad9dbb91a",
   "metadata": {},
   "source": [
    "**Question 7.** Perhaps you notice something interesting about the two error ratio columns. Write in the box below what you think might be happening in those two columns."
   ]
  },
  {
   "cell_type": "markdown",
   "id": "9ae26084-2150-4c20-b84f-5cb3ff4b3838",
   "metadata": {
    "tags": []
   },
   "source": [
    "_Type your answer for #7 here, replacing this text._"
   ]
  },
  {
   "cell_type": "markdown",
   "id": "10c837f4-d8e6-4ed7-b359-66e1e35e18b4",
   "metadata": {},
   "source": [
    "**Question 8.** How many iterations of the Bisection method starting with the interval of $[1,2]$ can achieve the same accuracy? Use either/ both of the cells below."
   ]
  },
  {
   "cell_type": "code",
   "execution_count": null,
   "id": "ac84ddd2-ceb5-485e-810f-4fefd53e6942",
   "metadata": {},
   "outputs": [],
   "source": [
    "#you may put code for #8 in this code cell\n"
   ]
  },
  {
   "cell_type": "markdown",
   "id": "6432a4ce-ba2f-4d3f-a982-7f309dd83574",
   "metadata": {},
   "source": [
    "_you may type text for #8 in this markdown cell_"
   ]
  },
  {
   "cell_type": "markdown",
   "id": "531b53fc-7c50-43e2-baac-8c426a5520bc",
   "metadata": {},
   "source": [
    "## 3. Secant Method\n",
    "\n",
    "The Secant method is similar to Newton's method, except we use secant lines instead of tangent lines. Remember the formula we derived in class for secant method:\n",
    "\n",
    "$$x_{n+1}=x_n-f(x_n) \\cdot \\frac{x_n-x_{n-1}}{f(x_n)-f(x_{n-1})}$$\n",
    "\n",
    "Your next task will be to write a python function to implement the Secant method."
   ]
  },
  {
   "cell_type": "markdown",
   "id": "c41d30af-bd23-46d9-b77b-e792c638d67f",
   "metadata": {},
   "source": [
    "**Question 9.** Fill in the ellipses for the `secant_method` function. I suggest you use the Newton Method code above as a model. Then test your function on the polynomial $f(x)=x^3-x^2-1$."
   ]
  },
  {
   "cell_type": "code",
   "execution_count": null,
   "id": "8da40e94-4355-4d88-9cd1-1efc963a814e",
   "metadata": {
    "tags": []
   },
   "outputs": [],
   "source": [
    "def secant_method(f, x0, x1, iterations = 25, tol = 1e-6):\n",
    "    \"\"\"\n",
    "    Parameters\n",
    "    ----------\n",
    "    f               : Function for which we are searching for a solution f(x)=0.\n",
    "    Df              : Derivative of f(x)\n",
    "    x0,x1           : Initial guesses for a solution f(x)=0\n",
    "    iterations = 25 : Set the aximum number of iterations for the loop\n",
    "    tol = 1e-6      : Set the level of tolerance for a stopping criteria\n",
    "\n",
    "    Returns\n",
    "    -------\n",
    "    The approximation of the root (if found)\n",
    "    \"\"\"\n",
    "    for n in range(0, iterations):\n",
    "    ...\n",
    "\n",
    "    \n",
    "    \n",
    "f = lambda x: x**3-x**2-1\n",
    "root = secant_method(f, 1, 2)\n",
    "print(root)\n"
   ]
  },
  {
   "cell_type": "markdown",
   "id": "e5564ed5-7e7e-4d1e-a562-af123158c088",
   "metadata": {},
   "source": [
    "# 4. Comparing Methods"
   ]
  },
  {
   "cell_type": "markdown",
   "id": "de4160f0-223c-46f7-8271-d6c5e63313be",
   "metadata": {},
   "source": [
    "**Question 10.** Consider the function $$f_1(x)=x^4-7.5x^3+10.56x^2+31.744x-68.8128$$ which has a root at $x=3.2$.\n",
    "\n",
    "**a.** Use all three root finding methods to find the root at $x=3.2$. Use the following specifications:\n",
    "\n",
    "- Tolerance for each method: $10^{-7}$\n",
    "- Maximum number of iterations for each method: 25\n",
    "- Initial interval/points for the Bisection and Secant methods: $[3.0, 3.5]$\n",
    "- Initial point for Newton's method: 3.0\n",
    "\n",
    "**b.** Now consider $$f_2(x)=x^2-1.1x-6.72$$ which also has a root at $x=3.2$. Using the same specifications as above, find the root at $x=3.2$ using all three root finding methods.\n",
    "\n",
    "Use the code cell below for your comparisons."
   ]
  },
  {
   "cell_type": "code",
   "execution_count": null,
   "id": "c6af70d9-f0fd-4752-9c0d-d48f436cbbb7",
   "metadata": {
    "tags": []
   },
   "outputs": [],
   "source": [
    "#use this cell for #10"
   ]
  },
  {
   "cell_type": "markdown",
   "id": "a0627572-74f2-4145-83c9-493299352cda",
   "metadata": {},
   "source": [
    "**Question 11.** Compare and contrast our various root-finding methods. What did you learn about their strengths and weaknesses? Which seem to work \"best\"? Support your statements with evidence. Be clear and concise in your comparisons."
   ]
  },
  {
   "cell_type": "markdown",
   "id": "e796d269-3fa7-413c-b4df-5e178337e9d6",
   "metadata": {
    "tags": []
   },
   "source": [
    "_Type your answer here, replacing this text._"
   ]
  },
  {
   "cell_type": "markdown",
   "id": "5a2dc936-4aad-4c5a-be78-24c9302b8b93",
   "metadata": {
    "tags": []
   },
   "source": [
    "## 4. Submitting your work\n",
    "You're done with Lab 04! Submit your work by doing the following:\n",
    "\n",
    "* Save your notebook\n",
    "\n",
    "* Restart the kernel and run all cells.\n",
    "\n",
    "* Right-click the `lab03` file in the navigation pane, then click \"download.\"\n",
    "\n",
    "* Upload the file you just downloaded to the Lab 04 assignment to Gradescope for Grading."
   ]
  }
 ],
 "metadata": {
  "kernelspec": {
   "display_name": "Python 3 (ipykernel)",
   "language": "python",
   "name": "python3"
  },
  "language_info": {
   "codemirror_mode": {
    "name": "ipython",
    "version": 3
   },
   "file_extension": ".py",
   "mimetype": "text/x-python",
   "name": "python",
   "nbconvert_exporter": "python",
   "pygments_lexer": "ipython3",
   "version": "3.10.5"
  }
 },
 "nbformat": 4,
 "nbformat_minor": 5
}
