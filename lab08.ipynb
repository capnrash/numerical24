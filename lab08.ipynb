{
 "cells": [
  {
   "cell_type": "markdown",
   "id": "cf8c6e94-1fc2-42e3-8021-69460fff12df",
   "metadata": {},
   "source": [
    "# Lab 8: Numerical Integration (#2)\n",
    "\n",
    "Welcome to Lab 08! Throughout the course you will complete a lab assignments like this one. You can't learn technical subjects without hands-on practice, so labs are an important part of the course.\n",
    "\n",
    "Collaborating on labs is more than okay -- it's encouraged. You should rarely remain stuck for more than a few minutes on questions in labs, so ask a neighbor or an instructor for help. Explaining things is beneficial, too -- the best way to solidify your knowledge of a subject is to explain it. You should **not** just copy/paste someone else's code, but rather work together to gain understanding of the task you need to complete. \n",
    "\n",
    "In today's lab, you'll learn:\n",
    "\n",
    "- How to implement Simpson's rule\n",
    "\n",
    "- How to implement Romberg integration\n",
    "\n",
    "\n",
    "To receive credit for a lab, answer all questions correctly and submit before the deadline.\n",
    "\n",
    "**Due Date:** Monday, April 29, 2024 at 4:59 pm\n",
    "\n",
    "**Collaboration Policy:** Labs are a collaborative activity. While you may talk with others about the labs, we ask that you **write your solutions individually**. If you do discuss the assignments with others **please include their names below**.\n",
    "\n",
    "**Collaborators:** \n",
    "\n",
    "List collaborators here."
   ]
  },
  {
   "cell_type": "markdown",
   "id": "9e022341-42a0-4831-838b-921e276a9f55",
   "metadata": {},
   "source": [
    "Run the cell below to import the required modules."
   ]
  },
  {
   "cell_type": "code",
   "execution_count": null,
   "id": "d2f9aa1f-9a86-4ac8-8258-71ecaa6e4fb8",
   "metadata": {},
   "outputs": [],
   "source": [
    "import numpy as np\n",
    "import matplotlib.pyplot as plt\n",
    "plt.style.use('seaborn-v0_8-whitegrid')\n",
    "%matplotlib inline"
   ]
  },
  {
   "cell_type": "markdown",
   "id": "a457dbc5-63cc-4b13-9070-a5814d08a090",
   "metadata": {},
   "source": [
    "Before we get started let's review two things:\n",
    "\n",
    "- `np.linspace()`\n",
    "\n",
    "- `lambda` functions\n",
    "\n",
    "## 0. Review\n",
    "\n",
    "The `np.linspace()` function returns evenly spaced numbers over a specified interval. For example, \n",
    "\n",
    "`np.linspace(0, 10, 11)` \n",
    "\n",
    "would return \n",
    "\n",
    "`array([ 0.,  1.,  2.,  3.,  4.,  5.,  6.,  7.,  8.,  9., 10.])`. \n",
    "\n",
    "Since this is an array object we can iterate over each element. Remember, Python gives the index value 0 for the first element. For example, if we saved our array to `x`\n",
    "\n",
    "`x = np.linspace(0, 10, 11)` \n",
    "\n",
    "then ran the command \n",
    "\n",
    "`x[1]`\n",
    "\n",
    "we would get 1. If instead we wanted the first element, then we would need to run `x[0]`.\n",
    "\n",
    "Try it for yourself."
   ]
  },
  {
   "cell_type": "code",
   "execution_count": null,
   "id": "2f5846d3-1d14-4819-bcbf-bdbafaf636b9",
   "metadata": {
    "tags": []
   },
   "outputs": [],
   "source": [
    "np.linspace(0, 10, 11)"
   ]
  },
  {
   "cell_type": "code",
   "execution_count": null,
   "id": "cc0b12a6-62f3-4ea9-81c1-1e2982706492",
   "metadata": {},
   "outputs": [],
   "source": [
    "x = np.linspace(0, 10, 11)\n",
    "x[1]"
   ]
  },
  {
   "cell_type": "code",
   "execution_count": null,
   "id": "8249fc5f-c34f-4065-9c8d-73bf8f6498bc",
   "metadata": {},
   "outputs": [],
   "source": [
    "x[0]"
   ]
  },
  {
   "cell_type": "markdown",
   "id": "93f176c5-8d47-4070-8062-bba251603d64",
   "metadata": {},
   "source": [
    "If we wanted to access elements 1, 3, 5, 7, and 9 we could slice the array\n",
    "\n",
    "```\n",
    "x[1::2]\n",
    "```\n",
    "\n",
    "or, if we wanted to access elements 2, 4, 6, and 8 \n",
    "\n",
    "```\n",
    "x[2::2]\n",
    "```\n",
    "\n",
    "Try it for yourself."
   ]
  },
  {
   "cell_type": "code",
   "execution_count": null,
   "id": "25de8eb9-2be0-42d6-82de-6a2df68177f6",
   "metadata": {},
   "outputs": [],
   "source": [
    "x[1::2]"
   ]
  },
  {
   "cell_type": "code",
   "execution_count": null,
   "id": "994acfd1-cbf6-4078-84c8-1743d4560915",
   "metadata": {},
   "outputs": [],
   "source": [
    "x[2::2]"
   ]
  },
  {
   "cell_type": "markdown",
   "id": "63290974-1018-4d24-8bdf-86aa06714220",
   "metadata": {},
   "source": [
    "Let's examine what happens when we run the command\n",
    "\n",
    "```\n",
    "x[1::2]\n",
    "```\n",
    "\n",
    "Slicing in Python means taking elements from one given index to another given index.\n",
    "\n",
    "- We pass slice instead of index like this: `[start:end]`.\n",
    "\n",
    "- We can also define the step, like this: `[start:end:step]`.\n",
    "\n",
    "- If we don't pass start its considered 0.\n",
    "\n",
    "- If we don't pass end its considered length of array in that dimension.\n",
    "\n",
    "- If we don't pass step its considered 1.\n",
    "\n",
    "So our command \n",
    "\n",
    "```\n",
    "x[1::2]\n",
    "```\n",
    "\n",
    "means to start at the **second** element in the array, end at the next to the last element, and use a step size of 2.\n",
    "\n",
    "**Note:** The end will not be included in the slice. For example, `x[:2]` would return `array([0., 1.])`. If we wanted to include 2, then we would need to run `x[:3]`.\n",
    "\n",
    "\n",
    "\n",
    "We can use an array to provide the inputs for a `lambda` function. Remember the syntax for a `lambda` function is \n",
    "\n",
    "```\n",
    "f = lambda x: x**2\n",
    "```\n",
    "\n",
    "If we define `f` we input the values from our array into `f`\n",
    "\n",
    "\n",
    "```\n",
    "f([x[1::2])\n",
    "```\n",
    "\n",
    "Try it and see."
   ]
  },
  {
   "cell_type": "code",
   "execution_count": null,
   "id": "6ddf9e0f-cbf7-4621-a197-d39466e046ed",
   "metadata": {},
   "outputs": [],
   "source": [
    "x[:2]"
   ]
  },
  {
   "cell_type": "code",
   "execution_count": null,
   "id": "be7ab8cb-9dd8-4bbc-80b9-d7cd91118959",
   "metadata": {},
   "outputs": [],
   "source": [
    "x[:3]"
   ]
  },
  {
   "cell_type": "code",
   "execution_count": null,
   "id": "97235296-073c-4007-80b8-4820362b2928",
   "metadata": {},
   "outputs": [],
   "source": [
    "f = lambda x: x**2\n",
    "\n",
    "f(x[1::2])"
   ]
  },
  {
   "cell_type": "markdown",
   "id": "c6a71f5b-3651-4e87-9a89-6775380550a7",
   "metadata": {
    "tags": []
   },
   "source": [
    "Throughout this notebook you can use `np.linspace` and `lambda` functions to help you complete the exercises. \n",
    "\n",
    "**Note:** There are other methods that can be used to accomplish the same task. Feel free to use other methods, if you have experience using Python. "
   ]
  },
  {
   "cell_type": "markdown",
   "id": "9a008444-de73-49be-8f50-02564a367973",
   "metadata": {},
   "source": [
    "## 1. Graphing \n",
    "\n",
    "Let's write a lambda functions that we can use to graph each function over its interval of integration.\n",
    "\n",
    "**Question 1.** Write a lambda function to sketch the graph of $f(x)=\\sin x$ from $0$ to $\\pi/2$.\n",
    "\n",
    "**Hint:** Use sine from numpy (e.g., `np.sin`)"
   ]
  },
  {
   "cell_type": "code",
   "execution_count": null,
   "id": "2f8e79bd-8671-4b1f-b555-74d18cfedef2",
   "metadata": {},
   "outputs": [],
   "source": [
    "## write your code for #1 here"
   ]
  },
  {
   "cell_type": "markdown",
   "id": "23a3be29-61b3-41d6-996f-43352c59fb47",
   "metadata": {},
   "source": [
    "## 2. Simpson's Rule\n",
    "\n",
    "Simpson's Rule (named after the English mathematician Thomas Simpson 1710−1761) is a numerical method that approximates the value of a definite integral by using quadratic functions. The rule is based on the fact that given three points, we can find the equation of a quadratic through those points. To obtain an approximation of the definite integral \n",
    "\n",
    "$$\\int_a^b f(x) \\ dx$$\n",
    " \n",
    "using Simpson's Rule, we partition the interval $[a,b]$ into an even number $n$ of subintervals, each of width\n",
    "\n",
    "$$\\Delta x = \\frac{b-a}{n}$$\n",
    "\n",
    "On each pair of consecutive subintervals $\\left[x_{i-1}, x_i \\right], \\left[x_i, x_{i+1} \\right]$ we consider a quadratic function $f(x)=ax^2+bx+c$ such that it passes through the points $\\left(x_{i-1}, f\\left(x_{i-1} \\right) \\right), \\left(x_i, f\\left(x_i \\right) \\right), \\left(x_{i+1}, f\\left(x_{i+1} \\right) \\right)$.\n",
    "\n",
    "\n",
    "If the function $f(x)$ is continuous on $[a,b]$, then \n",
    "\n",
    "$$\\int_a^b f(x) \\  dx \\approx \\frac{\\Delta x}{3}\\left[f\\left(x_0 \\right)+4f\\left(x_1 \\right)+2f\\left(x_2 \\right)+4f\\left(x_3 \\right) + 2f\\left(x_4 \\right) + \\cdots +4f\\left(x_{n-1} \\right) + f\\left(x_n \\right) \\right]$$\n",
    "\n",
    "The coefficients in Simpon's Rule have the following pattern $1,4,2,4,2,\\ldots,4,2,4,1$.\n",
    "\n",
    "Our goal is to write a Python function to approximate the value of a definite integral using Simpson's Rule.\n",
    "\n",
    "**Question 2.** Write a function which takes input parameters f, a, b and n and returns the Simpson's rule approximation of the definite integral of $f(x)$ on the interval $[a, b]$. Furthermore, let's assign a default value of $n=10$.\n",
    "\n",
    "**Hint:** Look back at your work from Lab7 - you may find looking at the trapezoid method you wrote helpful - modifying it may be better than starting from \"scratch\"."
   ]
  },
  {
   "cell_type": "code",
   "execution_count": null,
   "id": "b743071a-c826-4310-aeaf-6d1ff135686b",
   "metadata": {},
   "outputs": [],
   "source": [
    "def simpsons_rule(f, a, b, n = 10):\n",
    "    \"\"\"\n",
    "    Purpose\n",
    "    -------\n",
    "    Approximate the integral of f(x) from a to b by Simpson's rule.\n",
    "\n",
    "    Parameters\n",
    "    ----------\n",
    "    f : lambda function of a single variable\n",
    "    a , b : Interval of integration [a,b]\n",
    "    n : Number of subintervals of [a,b] (n is an even integer)\n",
    "\n",
    "    Returns\n",
    "    -------\n",
    "    Approximation of the integral of f(x) from a to b using Simpson's rule with n subintervals of equal length.\n",
    "\n",
    "\n",
    "    \"\"\"\n",
    "\n",
    "    ## fill in code for simpson's rule here"
   ]
  },
  {
   "cell_type": "markdown",
   "id": "56838697-70aa-4120-b666-b52394e41e6c",
   "metadata": {},
   "source": [
    "Run the cell below to make sure your function is correct. It should return `2.0001095173150043`."
   ]
  },
  {
   "cell_type": "code",
   "execution_count": null,
   "id": "7c4c13dc-1c2c-4ad1-a71b-1802db773cf9",
   "metadata": {},
   "outputs": [],
   "source": [
    "simpsons_rule(lambda x : np.sin(x), 0, np.pi, 10)"
   ]
  },
  {
   "cell_type": "markdown",
   "id": "e7113368-244d-4543-88b9-cccd50995b36",
   "metadata": {},
   "source": [
    "**Question 3.** Use your function to approximate the value of $\\displaystyle \\int_1^{1.6} \\frac{2x}{x^2-4} \\ dx$. Use $n=2$, $n=4$, then $n=8$ subintervals. (For a quick \"reality check,\" the actual value of the integral is $-\\ln(25/12)\\$, so the approximations should be getting closer to that value."
   ]
  },
  {
   "cell_type": "code",
   "execution_count": null,
   "id": "1b07ec97-a701-4b86-8c20-9b554d888b61",
   "metadata": {},
   "outputs": [],
   "source": [
    "## write code for #3 here"
   ]
  },
  {
   "cell_type": "markdown",
   "id": "3e531b24-d08c-4835-bf95-404165fd045d",
   "metadata": {},
   "source": [
    "**Question 4.** Given the actual value of $\\displaystyle \\int_1^{1.6} \\frac{2x}{x^2-4} \\ dx$ to be $-ln(25/12)$, compute the error associated with each of the three approximations from Question 3. By what (approximate) factor should you see the error shrink as $n$ is doubled? Is your observation of the error consistent with this expectation? (**Hint:** Use np.log for the natural log function.)\n",
    "\n"
   ]
  },
  {
   "cell_type": "code",
   "execution_count": null,
   "id": "90713f0b-431c-4ca5-b489-fa1e41acc7cb",
   "metadata": {},
   "outputs": [],
   "source": [
    "## write code for #4 here"
   ]
  },
  {
   "cell_type": "markdown",
   "id": "34aa57f9-78c4-4a2f-a405-c65df6567f00",
   "metadata": {},
   "source": [
    "*use this markdown cell for the last part of Q4*"
   ]
  },
  {
   "cell_type": "markdown",
   "id": "368c140a-1480-4629-9ba6-e4eeb8539cb6",
   "metadata": {},
   "source": [
    "## 3. Romberg Integration\n",
    "\n",
    "Remember the Romberg integration technique from class:\n",
    "\n",
    "1. Compute trapezoid approximations using $n=1$ and $n=2$.\n",
    "2. Apply Richardson Extrapolation (note this is the same value as if we did Simpson for $n=2$ - but do not use Simpson's rule here - use the extrapolation formula).\n",
    "3. Do it again!\n",
    "    1. Trapezoid for $n=4$\n",
    "    2. Richardson Extrapolation to 2 most-recent trapezoid approximations\n",
    "    3. Richardson Extrapolation to 2 most-recent simpson approximations\n",
    "4. Continue this process - each time we double n, apply Richardson Extrapolation to fill out the row, including adding a new column.\n",
    "\n",
    "In the end, you're creating a \"triangular\" matrix of integral approximations - the value to far lower-right is the \"best\" estimate so far. (Look back in your notes if you need to to see an example.)\n",
    "\n",
    "**Question 5.** For your final task for this lab, implement Romberg Integration and apply it to the same integral from the previous question: $\\displaystyle \\int_1^{1.6} \\frac{2x}{x^2-4} \\ dx$. You may implement this in a number of different ways. One option is to write code to build a two-dimensional array of values, then make a nice table/ display of that array. Another option is to use last week's trapezoid method to make the trapezoid estimates, put those in a spreadsheet, then use the spreadsheet to fill the rest of the columns. In the end, your solution should at a minimum:\n",
    "1. Show this Romberg process in a triangular matrix of values\n",
    "2. Include at least 5 rows/ columns\n",
    "3. Clearly report your \"final\" approximation to the integral\n",
    "\n",
    "Note you already computed Simpson approximations for $n=2,4,8$, so you can use those values as a \"check\" that that column in your table is correct."
   ]
  },
  {
   "cell_type": "code",
   "execution_count": null,
   "id": "b790dc11-4074-4371-a624-5c6542b4bba2",
   "metadata": {
    "tags": []
   },
   "outputs": [],
   "source": [
    "## write code for #5 here"
   ]
  },
  {
   "cell_type": "markdown",
   "id": "947b6d86-384e-48f0-b1a6-2e296a5dede1",
   "metadata": {},
   "source": [
    "*alternately, if you use an \"external\" tool (such as a google sheet), include a link in this markdown cell*"
   ]
  },
  {
   "cell_type": "markdown",
   "id": "5a2dc936-4aad-4c5a-be78-24c9302b8b93",
   "metadata": {
    "tags": []
   },
   "source": [
    "## 5. Submitting your work\n",
    "You're done with Lab 08! Submit your work by doing the following:\n",
    "\n",
    "* Save your notebook\n",
    "\n",
    "* Restart the kernel and run all cells.\n",
    "\n",
    "* Right-click the `lab08` file in the navigation pane, then click \"download.\"\n",
    "\n",
    "* Upload the file you just downloaded to the Lab 08 assignment to Gradescope for Grading."
   ]
  }
 ],
 "metadata": {
  "kernelspec": {
   "display_name": "Python 3 (ipykernel)",
   "language": "python",
   "name": "python3"
  },
  "language_info": {
   "codemirror_mode": {
    "name": "ipython",
    "version": 3
   },
   "file_extension": ".py",
   "mimetype": "text/x-python",
   "name": "python",
   "nbconvert_exporter": "python",
   "pygments_lexer": "ipython3",
   "version": "3.11.5"
  }
 },
 "nbformat": 4,
 "nbformat_minor": 5
}
