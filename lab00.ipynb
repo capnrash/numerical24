{
 "cells": [
  {
   "cell_type": "markdown",
   "id": "e3399062-3033-4d73-933f-77ba4f4d87b0",
   "metadata": {},
   "source": [
    "# Lab 00: Intro to Python & Jupyter Notebooks\n",
    "\n",
    "Welcome to Numerical Analysis! Throughout the course you will complete a lab assignment like this one. You can't learn technical subjects without hands-on practice, so labs are an important part of the course.\n",
    "\n",
    "Collaborating on labs is more than okay - it's encouraged. You should rarely remain stuck for more than a few minutes on questions in labs, so ask a neighbor or an instructor for help. Explaining things is beneficial, too - the best way to solidify your knowledge of a subject is to explain it. You should not just copy/paste someone else's code, but rather work together to gain understanding of the task you need to complete.\n",
    "\n",
    "To receive credit for a lab, answer all questions correctly and submit before the deadline.\n",
    "\n",
    "Due Date:\n",
    "\n",
    "Collaboration Policy: While you may talk with others about the labs, we ask that you write your solutions individually. If you do discuss the assignments with others please include their names below.\n",
    "\n",
    "Collaborators:\n",
    "\n",
    "List collaborators here."
   ]
  },
  {
   "cell_type": "markdown",
   "id": "bc8e8e32-d896-4a71-9c4a-1f03332ca931",
   "metadata": {},
   "source": [
    "## 1. Notebook basics\n",
    "### Text cells\n",
    "\n",
    "In a notebook, each rectangle containing text or code is called a cell.\n",
    "\n",
    "Text cells (like this one) can be edited by double-clicking on them. They're written in a simple format called Markdown to add formatting and section headings. You don't need to learn Markdown, but it may be beneficial for you to do so.\n",
    "\n",
    "After you edit a text cell, click the \"run cell\" button at the top that looks like ▶| or hold down shift + return to confirm any changes.\n",
    "\n",
    "Note: Try not to delete the instructions of the lab.\n",
    "\n",
    "### Code cells\n",
    "Other cells contain code in the Python 3 language. Running a code cell will execute all of the code it contains.\n",
    "\n",
    "To run the code in a code cell, first click on that cell to activate it. It'll be highlighted with a little green or blue rectangle. Next, either press ▶| or hold down shift + return.\n",
    "\n",
    "Try running the cell below:"
   ]
  },
  {
   "cell_type": "code",
   "execution_count": 2,
   "id": "ac741802-2788-4ce3-8895-53c2f89f42b5",
   "metadata": {},
   "outputs": [],
   "source": [
    "print(\"Hello, World!\")"
   ]
  },
  {
   "cell_type": "markdown",
   "id": "4cad9596-86e3-4cc5-91ba-866fea31a571",
   "metadata": {},
   "source": [
    "And this one:"
   ]
  },
  {
   "cell_type": "code",
   "execution_count": 3,
   "id": "48e9e5d6-7cb5-499b-9cf5-2ebde7a149f1",
   "metadata": {},
   "outputs": [],
   "source": [
    "print(\"\\N{WAVING HAND SIGN}, \\N{EARTH GLOBE ASIA-AUSTRALIA}!\")"
   ]
  },
  {
   "cell_type": "markdown",
   "id": "d9572da8-0fbb-4228-806d-acde23784837",
   "metadata": {},
   "source": [
    "## Writing in Jupyter notebooks\n",
    "\n",
    "You can use Jupyter notebooks for your own projects or documents. When you make your own notebook, you'll need to create your own cells for text and code.\n",
    "\n",
    "To add a cell, click the + button in the menu bar. It'll start out as a text cell. You can change it to a code cell by clicking inside it so it's highlighted, clicking the drop-down box next to the restart (⟳) button in the menu bar, and choosing \"Code\".\n"
   ]
  },
  {
   "cell_type": "markdown",
   "id": "31b3381d-e4d8-408c-8af5-019312ec776a",
   "metadata": {},
   "source": [
    "## Errors\n",
    "\n",
    "Python is a language, and like natural human languages, it has rules. It differs from natural language in two important ways:\n",
    "\n",
    "1. The rules are simple. You can learn most of them in a few weeks and gain reasonable proficiency with the language in a semester.\n",
    "2. The rules are rigid. If you're proficient in a natural language, you can understand a non-proficient speaker, glossing over small mistakes. A computer running Python code is not smart enough to do that.\n",
    "\n",
    "Whenever you write code, you'll make mistakes. When you run a code cell that has errors, Python will sometimes produce error messages to tell you what you did wrong.\n",
    "\n",
    "Errors are okay; even experienced programmers make many errors. When you make an error, you just have to find the source of the problem, fix it, and move on.\n",
    "\n",
    "We have made an error in the next cell. Run it and see what happens."
   ]
  },
  {
   "cell_type": "code",
   "execution_count": 4,
   "id": "8bb113dd-870f-4fce-88f9-a0becb32215e",
   "metadata": {},
   "outputs": [],
   "source": [
    "print(\"This line is missing something.\""
   ]
  },
  {
   "cell_type": "markdown",
   "id": "fb62b7c6-0b84-4e25-9122-1349114e0cfa",
   "metadata": {},
   "source": [
    "Note: In the toolbar, there is the option to click Run > Run All Cells, which will run all the code cells in this notebook in order. However, the notebook stops running code cells if it hits an error, like the one in the cell above.\n",
    "\n",
    "The last line of the error output attempts to tell you what went wrong. The syntax of a language is its structure, and this SyntaxError tells you that you have created an illegal structure. \"EOF\" means \"end of file,\" so the message is saying Python expected you to write something more (in this case, a right parenthesis) before finishing the cell.\n",
    "\n",
    "There's a lot of terminology in programming languages, but you don't need to know it all in order to program effectively. If you see a cryptic message like this, you can often get by without deciphering it. Of course, if you're frustrated, ask someone for help.\n",
    "\n",
    "Try to fix the code above so that you can run the cell and see the intended message instead of an error.\n"
   ]
  },
  {
   "cell_type": "markdown",
   "id": "b0a4f881-75bb-4b85-a04b-a9dad8ac1cf7",
   "metadata": {},
   "source": [
    "### The Kernel\n",
    "\n",
    "The kernel is a program that executes the code inside your notebook and outputs the results. In the top right of your window, you can see a circle that indicates the status of your kernel. If the circle is empty (⚪), the kernel is idle and ready to execute code. If the circle is filled in (⚫), the kernel is busy running some code.\n",
    "\n",
    "Next to every code cell, you'll see some text that says `In [...]`. Before you run the cell, you'll see `In [ ]`. When the cell is running, you'll see `In [*]`. If you see an asterisk next to a cell that doesn't go away, it's likely that the code inside the cell is taking too long to run, and it might be a good time to interrupt the kernel (discussed below). When a cell is finished running, you'll see a number inside the brackets, like so: `In [1]`. The number corresponds to the order in which you run the cells; so, the first cell you run will show a 1 when it's finished running, the second will show a 2, and so on.\n",
    "\n",
    "You may run into problems where your kernel is stuck for an excessive amount of time, your notebook is very slow and unresponsive, or your kernel loses its connection. If this happens, try the following steps:\n",
    "\n",
    "1. At the top of your screen, click **Kernel**, then **Interrupt Kernel**. Trying running your code again.\n",
    "\n",
    "2. If that doesn't help, click **Kernel**, then **Restart Kernel**. If you do this, you will have to run your code cells from the start of your notebook up until where you paused your work.\n",
    "\n",
    "3. If that doesn't help, restart your server. This is very rarely needed, but it's good to know how to do just in case. First, save your work by clicking **File** at the top left of your screen, then **Save Notebook**. Next, click **File** again and choose **Hub Control Panel** and select **Stop My Server** to shut it down. Then, after a few moments select **Start My Server** to start it back up. Then, navigate back to the notebook you were working on. You'll still have to run your code cells again.\n",
    "\n"
   ]
  },
  {
   "cell_type": "markdown",
   "id": "51de1487-3dfa-4f1d-bcef-76ac30beb7e4",
   "metadata": {},
   "source": [
    "## 2. Numbers\n",
    "\n",
    "Quantitative information arises everywhere in data science. In addition to representing commands to print out lines, expressions can represent numbers and methods of combining numbers. The expression `3.2500` evaluates to the number `3.25`.\n",
    "\n",
    "Run the cell and see."
   ]
  },
  {
   "cell_type": "code",
   "execution_count": 5,
   "id": "6b6141a9-50a9-45f4-850d-f02cea7dd4db",
   "metadata": {},
   "outputs": [],
   "source": [
    "3.2500"
   ]
  },
  {
   "cell_type": "markdown",
   "id": "a5e1216a-4894-4d31-ad14-2ce8356c40e7",
   "metadata": {},
   "source": [
    "Notice that we didn't have to print. When you run a notebook cell, if the last line has a value, then Jupyter helpfully prints out that value for you. However, it won't print out prior lines automatically."
   ]
  },
  {
   "cell_type": "code",
   "execution_count": 6,
   "id": "a34e29e0-6336-439f-8163-11557dbaf6af",
   "metadata": {},
   "outputs": [],
   "source": [
    "print(2)\n",
    "3\n",
    "4"
   ]
  },
  {
   "cell_type": "markdown",
   "id": "da2760f4-a2d9-4eb5-a1a9-8437fa7b6d8f",
   "metadata": {},
   "source": [
    "Above, you should see that 4 is the value of the last expression, 2 is printed, but 3 is lost forever because it was neither printed nor last.\n",
    "\n",
    "You don't want to print everything all the time anyway. But if you feel sorry for 3, change the cell above to print it.\n"
   ]
  },
  {
   "cell_type": "markdown",
   "id": "3f37281a-3bea-4ab4-8f90-5be351ee7eda",
   "metadata": {},
   "source": [
    "### Arithmetic\n",
    "\n",
    "The line in the next cell subtracts. Its value is what you'd expect. Run it."
   ]
  },
  {
   "cell_type": "code",
   "execution_count": 7,
   "id": "28150e1c-38a7-46eb-9f1f-46059f50a564",
   "metadata": {},
   "outputs": [],
   "source": [
    "3.25 - 1.5"
   ]
  },
  {
   "cell_type": "markdown",
   "id": "488cdd45-d9d8-443a-80aa-a5d38bdb213b",
   "metadata": {},
   "source": [
    "Many basic arithmetic operations are built into Python. The textbook section on Expressions describes all the arithmetic operators used in the course. The common operator that differs from typical math notation is \\*\\*, which raises one number to the power of the other. So, 2\\*\\*3 stands for 2\\^3 and evaluates to 8.\n",
    "\n",
    "The order of operations is the same as what you learned in elementary school, and Python also has parentheses. For example, compare the outputs of the cells below."
   ]
  },
  {
   "cell_type": "code",
   "execution_count": 8,
   "id": "68b4ceaa-d08e-4547-bf52-af27ceda9b9d",
   "metadata": {},
   "outputs": [],
   "source": [
    "7+6*5-6*3**2*2**3/4*7"
   ]
  },
  {
   "cell_type": "code",
   "execution_count": 9,
   "id": "0e23b64f-c48b-423a-ac1b-cd36cbc0cf29",
   "metadata": {},
   "outputs": [],
   "source": [
    "7+(6*5-(6*3))**2*((2**3)/4*7)"
   ]
  },
  {
   "cell_type": "markdown",
   "id": "3feddea5-3523-46fb-9691-b807d1f95386",
   "metadata": {},
   "source": [
    "## Names\n",
    "\n",
    "In natural language, we have terminology that lets us quickly reference very complicated concepts. We don't say, \"That's a large mammal with brown fur and sharp teeth!\" Instead, we just say, \"Bear!\"\n",
    "\n",
    "In Python, we do this with assignment statements. An assignment statement has a name on the left side of an = sign and an expression to be evaluated on the right.\n"
   ]
  },
  {
   "cell_type": "code",
   "execution_count": 10,
   "id": "cf708ad5-3ac5-4a0f-8188-354dde2dfcfd",
   "metadata": {},
   "outputs": [],
   "source": [
    "three_is_the_magic_number = 1*1+0.5*2+4*1/4\n",
    "three_is_the_magic_number"
   ]
  },
  {
   "cell_type": "markdown",
   "id": "85a26cdd-a647-42be-a33e-b63daded6a1d",
   "metadata": {},
   "source": [
    "When you run that cell, Python first computes the value of the expression on the right-hand side, `1*1+0.5*2+4*1/4`, which is the number 3. Then it assigns that value to the name `three_is_the_magic_number`. At that point, the code in the cell is done running.\n",
    "\n",
    "Names in Python can have letters (upper- and lower-case letters are both okay and count as different letters), underscores, and numbers. The first character can't be a number (otherwise a name might look like a number). And names can't contain spaces, since spaces are used to separate pieces of code from each other.\n",
    "\n",
    "Other than those rules, what you name something doesn't matter to Python. For example, the two cell blocks below do the same thing, except the first has a clearer context:\n"
   ]
  },
  {
   "cell_type": "code",
   "execution_count": 11,
   "id": "08923914-7e75-4f43-9ea8-fe6031961379",
   "metadata": {},
   "outputs": [],
   "source": [
    "semimonthly_salary = 841.25\n",
    "monthly_salary = 2 * semimonthly_salary\n",
    "number_of_months_in_a_year = 12\n",
    "yearly_salary = number_of_months_in_a_year * monthly_salary\n",
    "yearly_salary"
   ]
  },
  {
   "cell_type": "code",
   "execution_count": 12,
   "id": "c226d95c-b10f-45a2-828e-7c850fd2caec",
   "metadata": {},
   "outputs": [],
   "source": [
    "a = 841.25\n",
    "b = 2 * a\n",
    "c = 12\n",
    "d = c * b\n",
    "d"
   ]
  },
  {
   "cell_type": "markdown",
   "id": "d14de506-de18-4dc6-94b1-aa36b2b63379",
   "metadata": {},
   "source": [
    "**However**, names are very important for making your code readable to yourself and others. The cell above is shorter, but it's totally useless without an explanation of what it does."
   ]
  },
  {
   "cell_type": "markdown",
   "id": "dc7e6344-df46-4cc3-8153-060de5526f87",
   "metadata": {},
   "source": [
    "## 3. Comments\n",
    "\n",
    "Often times it's helpful to write comments in your code. These are ignored by Python but should be useful to a human (including yourself). Starting a line with `#` tells Python that that line is a comment.\n",
    "\n",
    "http://imgs.xkcd.com/comics/future_self.png\n"
   ]
  },
  {
   "cell_type": "markdown",
   "id": "a16631fe-e11c-4fce-84c6-bd3587daa90f",
   "metadata": {},
   "source": [
    "## 4. Calling functions\n",
    "\n",
    "The most common way to combine or manipulate values in Python is by calling *functions*. Python comes with many built-in functions that perform common operations.\n",
    "\n",
    "For example, the `abs` function takes a single number as its argument and returns the absolute value of that number. Run the next two cells and see if you understand the output."
   ]
  },
  {
   "cell_type": "code",
   "execution_count": 13,
   "id": "6b695ac1-f98f-4273-ba85-f89d35eaa03e",
   "metadata": {},
   "outputs": [],
   "source": [
    "abs(5)"
   ]
  },
  {
   "cell_type": "code",
   "execution_count": 14,
   "id": "c052a805-9b62-4ef8-b341-c57e74766bd3",
   "metadata": {},
   "outputs": [],
   "source": [
    "abs(-5)"
   ]
  },
  {
   "cell_type": "markdown",
   "id": "426f9f70-6668-4621-ab4a-1e9060ee4a7d",
   "metadata": {
    "tags": []
   },
   "source": [
    "### Multiple Arguments\n",
    "\n",
    "Some functions take multiple arguments, separated by commas. For example, the built-in `max` function returns the maximum argument passed to it."
   ]
  },
  {
   "cell_type": "code",
   "execution_count": 15,
   "id": "725cf180-0191-4413-95cf-268a74a8a3c4",
   "metadata": {},
   "outputs": [],
   "source": [
    "max(2, -3, 4, -5)"
   ]
  },
  {
   "cell_type": "markdown",
   "id": "9cfbd925-9f86-4701-8c18-7608438b2dd9",
   "metadata": {},
   "source": [
    "**Question** Given the heights of players from the Charlotte Hornets, write an expression that computes the smallest difference between any of the three heights. Your expression shouldn't have any numbers in it, only function calls and the names `lamelo`, `hayward`, and `bridges`. Give the value of your expression the name `min_height_difference`."
   ]
  },
  {
   "cell_type": "code",
   "execution_count": 16,
   "id": "407c1c3b-f18d-4773-89e0-6bf85ed737f6",
   "metadata": {
    "tags": []
   },
   "outputs": [],
   "source": [
    "# The three players' heights, in meters:\n",
    "lamelo = 1.98  # LaMelo Ball is 6'6\"\n",
    "hayward = 2.01  # Gordon Hayward is 6'7\"\n",
    "bridges = 2.11 # Mason Plumlee is 6'11\n",
    "             \n",
    "# We'd like to look at all 3 pairs of heights, \n",
    "# compute the absolute difference between each pair, \n",
    "# and then find the smallest of those 3 absolute differences.  \n",
    "\n",
    "# This is left to you. \n",
    "# If you're stuck, try computing the value for each step of the process \n",
    "# (like the difference between LaMelo's heigh and Hayward's height) \n",
    "# on a separate line and giving it a name (like lamelo_hayward_height_diff)\n",
    "min_height_difference = ...\n",
    "\n",
    "# Again, we've written this here \n",
    "# so that the distance you compute will get printed \n",
    "# when you run this cell.\n",
    "min_height_difference"
   ]
  },
  {
   "cell_type": "markdown",
   "id": "3c8c0d9e-e61a-4890-a05d-441109b491db",
   "metadata": {
    "tags": []
   },
   "source": [
    "## 6. Submitting your work\n",
    "You're done with Lab 00! Submit your work by doing the following:\n",
    "\n",
    "* Save your notebook\n",
    "\n",
    "* Restart the kernel and run all cells.\n",
    "\n",
    "* Right-click the `lab00` file in the navigation pane, then click \"download.\"\n",
    "\n",
    "* Upload the file you just downloaded to the Lab 00 assignment to Gradescope for Grading."
   ]
  }
 ],
 "metadata": {
  "kernelspec": {
   "display_name": "Python 3 (ipykernel)",
   "language": "python",
   "name": "python3"
  },
  "language_info": {
   "codemirror_mode": {
    "name": "ipython",
    "version": 3
   },
   "file_extension": ".py",
   "mimetype": "text/x-python",
   "name": "python",
   "nbconvert_exporter": "python",
   "pygments_lexer": "ipython3",
   "version": "3.10.5"
  }
 },
 "nbformat": 4,
 "nbformat_minor": 5
}
