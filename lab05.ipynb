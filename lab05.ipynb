{
 "cells": [
  {
   "cell_type": "markdown",
   "id": "cf8c6e94-1fc2-42e3-8021-69460fff12df",
   "metadata": {},
   "source": [
    "# Lab 5: Interpolating Polynomials\n",
    "\n",
    "Welcome to Lab 05! Throughout the course you will complete a lab assignments like this one. You can't learn technical subjects without hands-on practice, so labs are an important part of the course.\n",
    "\n",
    "Collaborating on labs is more than okay -- it's encouraged. You should rarely remain stuck for more than a few minutes on questions in labs, so ask a neighbor or an instructor for help. Explaining things is beneficial, too -- the best way to solidify your knowledge of a subject is to explain it. You should **not** just copy/paste someone else's code, but rather work together to gain understanding of the task you need to complete. \n",
    "\n",
    "In today's lab, you'll learn:\n",
    "\n",
    "- How to find divided differences\n",
    "\n",
    "- How to use divided differences to write an interpolating polynomial\n",
    "\n",
    "- Start to think about the error associated with an interpolating polynomial\n",
    "\n",
    "\n",
    "To receive credit for a lab, answer all questions correctly and submit before the deadline.\n",
    "\n",
    "**Due Date:** Monday, March 18, 2024 at 4:59 pm\n",
    "\n",
    "**Collaboration Policy:** Labs are a collaborative activity. While you may talk with others about the labs, we ask that you **write your solutions individually**. If you do discuss the assignments with others **please include their names below**.\n",
    "\n",
    "**Collaborators:** \n",
    "\n",
    "List collaborators here."
   ]
  },
  {
   "cell_type": "code",
   "execution_count": null,
   "id": "39216be0-7349-49f6-b1a4-1f641180f61d",
   "metadata": {},
   "outputs": [],
   "source": []
  },
  {
   "cell_type": "markdown",
   "id": "fdee0c62-6f61-4873-83b5-76e99db0d51d",
   "metadata": {},
   "source": [
    "## 0. Review function plotting\n",
    "\n",
    "Duplicated below is example code below from a previous lab to graph a function. It's here simply for your reference. You should run both cells so you have numpy & matplotlib available for later use."
   ]
  },
  {
   "cell_type": "code",
   "execution_count": 2,
   "id": "517552c2-c7a5-47fb-a1ca-160224fa7a2a",
   "metadata": {},
   "outputs": [],
   "source": [
    "import numpy as np\n",
    "import matplotlib.pyplot as plt\n",
    "plt.style.use('seaborn-v0_8-whitegrid')\n",
    "%matplotlib inline"
   ]
  },
  {
   "cell_type": "code",
   "execution_count": 3,
   "id": "d5050e82-f58f-497d-815e-efe92a70516b",
   "metadata": {},
   "outputs": [
    {
     "data": {
      "image/png": "[encoded data removed]",
      "text/plain": [
       "<Figure size 640x480 with 1 Axes>"
      ]
     },
     "metadata": {},
     "output_type": "display_data"
    }
   ],
   "source": [
    "x = np.linspace(-1,1.5,50)\n",
    "f = lambda x: x**6-x-1\n",
    "plt.plot(x, f(x), color = 'black', ms = 3);"
   ]
  },
  {
   "cell_type": "markdown",
   "id": "4760c053-8d62-4b79-9f34-e5316646442d",
   "metadata": {
    "tags": []
   },
   "source": [
    "### Plotting the example from class\n",
    "\n",
    "Let's plot the 3 points and interpolating polynomial from Monday's class. Remember that was the quadratic function that passes through the points $(-1,6)$, $(1,-2)$, and $(2,3)$. When simplified, the interpolating polynomial is $P_2(x)=3x^2-4x-1$.\n",
    "\n",
    "**Question 1.** Use matplotlib to plot these three points and the degree-2 interpolating polynomial."
   ]
  },
  {
   "cell_type": "code",
   "execution_count": 3,
   "id": "453c177d-d95f-4451-a832-45e1b5f66237",
   "metadata": {},
   "outputs": [],
   "source": [
    "# use this code cell to answer Q1\n"
   ]
  },
  {
   "cell_type": "markdown",
   "id": "a0b8b5ca-2354-4720-9815-a0bfd0deff87",
   "metadata": {
    "tags": []
   },
   "source": [
    "## 1. Divided Differences\n",
    "\n",
    "So far we have learned how to use divided differences to write an interpolating polynomial. (Soon we'll also learn another method.) Thus, let's first review what divided differences are.\n",
    "\n",
    "Remember for a function $f(x)$ and a set of interpolating points $(x_0,f(x_0)) ... (x_n,f(x_n))$, we define the **first-order divided difference** as $$f[x_0,x_1]=\\frac{f(x_1)-f(x_0)}{x_1-x_0}$$\n",
    "\n",
    "We can define higher-order divided differences using lower-order divided differences. For example, the **2nd-order divided difference** is $$f[x_0,x_1,x_2]=\\frac{f[x_1,x_2]-f[x_0,x_1]}{x_2-x_0}$$  And in general, we have the **nth-order divided difference**: $$f[x_0,\\ldots,x_n]=\\frac{f[x_1,\\ldots,x_n]-f[x_0,\\ldots,x_{n-1}]}{x_n-x_0}$$\n",
    "\n",
    "**Note**: Though we usually select $x_k$'s \"in order\" (i.e. $x_0<x_1<\\ldots<x_n$), there is no requirement that this be the case. The value of the nth-order divided difference is independent of the ordering of the $x_k$'s. Furthermore, though it's also often convenient to have the $x_k$'s equally-spaced, this is not a requirement either.\n",
    "\n",
    "When computing divided differences, it's helpful to organize them in a table. Thus for the rest of this lab, feel free to use any \"resource\" you desire - i.e. you're not required to write code! To make the table in Question 2, for example, you may choose to write code, use a spreadsheet (Excel or Google-sheets), OR use good ol' fashioned paper. If your solution involves resources you can't easily put in this notebook (for example a spreadsheet or hand-written work), put your work in a google doc/sheet and put a link to that resource in this notebook.\n",
    "\n",
    "### Scenario\n",
    "\n",
    "Suppose the expected lifetime of an industrial fan when operated at the listed temperature is shown in the table below.\n",
    "```\n",
    "temp(degC) hrs(x1000)\n",
    "25         95\n",
    "40         75\n",
    "50         63\n",
    "60         54\n",
    "```\n",
    "**Question 2.** Construct a table of finite differences for this data. More specifically, find the 3 first-order differences through each pair of adjacent points. Then find 2 2nd-order differences: one through the first 3 points, then another through the second 3 points. Finally, find the 3rd-order divided difference through all 4 points. Organize these divided differences in an easy-to-read table. (By \"easy-to-read\", more specifically I mean put the temps in a column, hours in a column to the right of that, then first-order divided differences in a column to the right of hours, etc.)\n",
    "\n",
    "**Note**: You are **strongly** encouraged to check your solution to Q2 with one or more neighbors before proceeding - if your divided differences are incorrect, you'll likely not be able to write correct interpolating polynomials for Q3 and Q4.\n"
   ]
  },
  {
   "cell_type": "code",
   "execution_count": 4,
   "id": "3363498d-e9e8-4063-baf8-15646ed7ef38",
   "metadata": {},
   "outputs": [],
   "source": [
    "# use this cell if you write code for Q2\n"
   ]
  },
  {
   "cell_type": "markdown",
   "id": "a201e2e4-eb95-4766-8bd2-ed78dae59a3c",
   "metadata": {},
   "source": [
    "*#use this cell if you need a non-code block for your solution to Q2, for example if you have a link to a google-doc*"
   ]
  },
  {
   "cell_type": "markdown",
   "id": "031075bd-87d7-465d-96d8-7de363180019",
   "metadata": {},
   "source": [
    "Remember we can use entries from our divided differences table to easily write an interpolating polynomial. For example, we can write $P_1$, the degree-1 interpolating polynomial as $$P_1(x)=f(x_0)+f[x_0,x_1](x-x_0)$$\n",
    "and the degree-2 interpolating polynomial, $P_2$, as\n",
    "$$P_2(x)=f(x_0)+f[x_0,x_1](x-x_0)+f[x_0,x_1,x_2](x-x_0)(x-x_1)$$\n",
    "In general, we have\n",
    "$$P_n(x)=P_{n-1}(x)+f[x_0,\\ldots,x_n](x-x_0)\\cdots (x-x_{n-1})$$\n"
   ]
  },
  {
   "cell_type": "markdown",
   "id": "a33a458c-7627-4eaf-8fb2-cf24a80bbd84",
   "metadata": {},
   "source": [
    "**Question 3.** Use the values from your divided differences table (from Question 2) to write a degree-2 interpolating polynomial (let's call it $P_2$) that passes through the _first 3 points_. Use this polynomial to estimate the lifetime of the fan with an operating temperature of 70 degrees. (**Note**: Again, feel free to use whatever resource/ method you desire, whether it be write code, use a spreadsheet, or simply working out the polynomial \"on paper\" and recording your result here.)"
   ]
  },
  {
   "cell_type": "code",
   "execution_count": 5,
   "id": "8558208a-27af-433d-bcd6-6abfdbb772e1",
   "metadata": {},
   "outputs": [],
   "source": [
    "# use this cell if you write code for Q3"
   ]
  },
  {
   "cell_type": "markdown",
   "id": "f3c27723-0353-43ad-8a45-44cd693ae9ea",
   "metadata": {},
   "source": [
    "*#use this cell if you need a non-code block for your solution to Q3*"
   ]
  },
  {
   "cell_type": "markdown",
   "id": "b41eac89-65e8-466f-9f5c-35790cd3361f",
   "metadata": {},
   "source": [
    "**Question 4.** Repeat Question 3 above, except write a *degree-3* interpolating polynomial (let's call it $P_3$) that passes through all 4 points. Then use this polynomial to estimate the lifetime of the fan with an operating temperature of 70 degrees."
   ]
  },
  {
   "cell_type": "code",
   "execution_count": 6,
   "id": "31931788-0c24-4fef-ba8b-91a454caa001",
   "metadata": {},
   "outputs": [],
   "source": [
    "# use this cell if you write code for Q4"
   ]
  },
  {
   "cell_type": "markdown",
   "id": "78627635-a968-41bb-8e2b-7a44ab586d9c",
   "metadata": {},
   "source": [
    "*#use this cell if you need a non-code block for your solution to Q4*"
   ]
  },
  {
   "cell_type": "markdown",
   "id": "fa561f0c-30e2-45f6-a3b0-55a518b29a7c",
   "metadata": {},
   "source": [
    "## 2. Looking at the error between a function and its interpolating polynomial\n",
    "\n",
    "Next we're going to select some points from the function $f(x)=\\frac{1}{1+x}$ on the interval $[0,2]$, build an interpolating polynomial, and look at the error between $f$ and the polynomial.\n",
    "\n",
    "**Question 5.** Use three equally-spaced interpolating points that span the interval $[0,2]$ to write a degree-2 interpolating polynomial, $P_2(x)$. (Thus, you should use the $x$-coordinates 0, 1, and 2.)\n",
    "\n",
    "Then make a graph of $f$, $P_2$, and the 3 interpolating points. You may use matplotlib or another graphing utility if you desire.\n"
   ]
  },
  {
   "cell_type": "code",
   "execution_count": 7,
   "id": "b12c4832-f6ed-4b7b-85b7-e465fe4e370f",
   "metadata": {},
   "outputs": [],
   "source": [
    "# use this cell if you write code for Q5\n"
   ]
  },
  {
   "cell_type": "markdown",
   "id": "ed5ca312-f225-4cdd-85bb-4f75c870a22f",
   "metadata": {},
   "source": [
    "*#use this cell if you need a non-code block for your solution to Q5*"
   ]
  },
  {
   "cell_type": "markdown",
   "id": "3ee85769-3be6-48d9-b07d-418c95ebd283",
   "metadata": {},
   "source": [
    "**Question 6.** Make a graph of the error function $f(x)-P_2(x)$. What is the largest value of the magnitude of the error on the interval $[0,2]$?\n"
   ]
  },
  {
   "cell_type": "code",
   "execution_count": 8,
   "id": "ecaa0db3-1619-46fd-a4f3-ab6bfcea330d",
   "metadata": {},
   "outputs": [],
   "source": [
    "# use this cell if you write code for Q6"
   ]
  },
  {
   "cell_type": "markdown",
   "id": "4ec6a410-b431-4ada-adb4-321cff65ef4a",
   "metadata": {},
   "source": [
    "*#use this cell if you need a non-code block for your solution to Q6*"
   ]
  },
  {
   "cell_type": "markdown",
   "id": "16b793fc-3d4c-4a0c-8795-12084cb74aaf",
   "metadata": {},
   "source": [
    "**Question 7.** Repeat questions 5 and 6 for $P_4$, the degree-4 interpolating polynomial. (Use 5 equally-spaced interpolating points over the same interval.)"
   ]
  },
  {
   "cell_type": "code",
   "execution_count": 9,
   "id": "a486de14-be52-4cd8-8432-8f5ff5890c98",
   "metadata": {},
   "outputs": [],
   "source": [
    "# use this cell if you write code for Q7"
   ]
  },
  {
   "cell_type": "markdown",
   "id": "d8a1ab3f-6cec-47f2-b0de-b501c8bcd51c",
   "metadata": {},
   "source": [
    "*#use this cell if you need a non-code block for your solution to Q7*"
   ]
  },
  {
   "cell_type": "markdown",
   "id": "3668c8b3-8671-43b3-96de-c1569f6ae103",
   "metadata": {},
   "source": [
    "**Question 8.** Comment briefly on what you observed in the error between $f$ and each of the 2 interpolating polynomials, $P_2$ and $P_4$."
   ]
  },
  {
   "cell_type": "markdown",
   "id": "e796d269-3fa7-413c-b4df-5e178337e9d6",
   "metadata": {
    "tags": []
   },
   "source": [
    "*(write your response to Q8 here)*"
   ]
  },
  {
   "cell_type": "markdown",
   "id": "5a2dc936-4aad-4c5a-be78-24c9302b8b93",
   "metadata": {
    "tags": []
   },
   "source": [
    "## 3. Submitting your work\n",
    "You're done with Lab 05! Submit your work by doing the following:\n",
    "\n",
    "* Save your notebook\n",
    "\n",
    "* Restart the kernel and run all cells.\n",
    "\n",
    "* Right-click the `lab05` file in the navigation pane, then click \"download.\"\n",
    "\n",
    "* Upload the file you just downloaded to the Lab 05 assignment to Gradescope for Grading.\n",
    "\n",
    "* If you have included any links to google-docs/sheets, be sure permissions are set correctly so that I can open them."
   ]
  },
  {
   "cell_type": "code",
   "execution_count": null,
   "id": "56b41825-bf41-447c-a64e-1471e69374dc",
   "metadata": {},
   "outputs": [],
   "source": []
  }
 ],
 "metadata": {
  "kernelspec": {
   "display_name": "Python 3 (ipykernel)",
   "language": "python",
   "name": "python3"
  },
  "language_info": {
   "codemirror_mode": {
    "name": "ipython",
    "version": 3
   },
   "file_extension": ".py",
   "mimetype": "text/x-python",
   "name": "python",
   "nbconvert_exporter": "python",
   "pygments_lexer": "ipython3",
   "version": "3.11.5"
  }
 },
 "nbformat": 4,
 "nbformat_minor": 5
}
