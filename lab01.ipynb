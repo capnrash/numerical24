{
 "cells": [
  {
   "cell_type": "markdown",
   "id": "6ca579b6-a4a3-4b3f-94eb-24161002c15b",
   "metadata": {
    "tags": []
   },
   "source": [
    "# Lab 01: Collection Data Types, Arrays, and Taylor Polynomials\n",
    "\n",
    "Welcome to Lab 01! Throughout the course you will complete a lab assignments like this one. You can't learn technical subjects without hands-on practice, so labs are an important part of the course.\n",
    "\n",
    "Collaborating on labs is more than okay -- it's encouraged. You should rarely remain stuck for more than a few minutes on questions in labs, so ask a neighbor or an instructor for help. Explaining things is beneficial, too -- the best way to solidify your knowledge of a subject is to explain it. You should **not** just copy/paste someone else's code, but rather work together to gain understanding of the task you need to complete. \n",
    "\n",
    "In today's lab, you'll learn how to:\n",
    "\n",
    "- import Python libraries.\n",
    "\n",
    "- write user-defined functions.\n",
    "\n",
    "- plot graphs.\n",
    "\n",
    "To receive credit for a lab, answer all questions correctly and submit before the deadline.\n",
    "\n",
    "**Due Date:** Thursday, February 9, 2023 at 11:59 pm\n",
    "\n",
    "**Collaboration Policy:** Labs are a collaborative activity. While you may talk with others about the labs, we ask that you **write your solutions individually**. If you do discuss the assignments with others **please include their names below**.\n",
    "\n",
    "**Collaborators:** \n",
    "\n",
    "List collaborators here."
   ]
  },
  {
   "cell_type": "markdown",
   "id": "94fa20c4-ee77-49db-b517-01e12b6460db",
   "metadata": {},
   "source": [
    "## 1. Keyboard Shortcuts\n",
    "\n",
    "Even if you are familiar with Jupyter, we strongly encourage you to become proficient with keyboard shortcuts (this will save you time in the future). To learn about keyboard shortcuts, go to **Help $\\to$ Keyboard Shortcuts** in the menu above.\n",
    "\n",
    "Here are a few that we like:\n",
    "\n",
    "1. Ctrl + Return: Evaluate the current cell\n",
    "2. Shift + Return: Evaluate the current cell and move to the next\n",
    "3. ESC: command mode (may need to press before using any of the commands below)\n",
    " -  a: create a cell above\n",
    " -  b: create a cell below\n",
    " - dd: delete a cell\n",
    " -  z: undo the last cell operation\n",
    " -  m: convert a cell to markdown\n",
    " -  y: convert a cell to code"
   ]
  },
  {
   "cell_type": "markdown",
   "id": "f6a02138-3ebb-4b2c-bdd2-f908177d8ff4",
   "metadata": {},
   "source": [
    "## 2. Importing Libraries and Magic Commands\n",
    "\n",
    "In Numerical Analysis, we will be using common Python libraries to help us perform mathematical operations. A library is an umbrella term referring to a reusable chunk of code. Usually, a Python library contains a collection of related modules and packages. Actually, this term is often used interchangeably with “Python package” because packages can also contain modules and other packages (subpackages). However, it is often assumed that while a package is a collection of modules, a library is a collection of packages.\n",
    "\n",
    "By convention, we import all libraries at the very top of the notebook. There are also a set of standard aliases that are used to shorten the library names. Below are some of the libraries that you may encounter throughout the course, along with their respective aliases.\n",
    "\n",
    "### Importing Libraries\n",
    "\n",
    "We'll look at the `math` module as a first example. The `math` module is extremely useful in computing mathematical expressions in Python. \n",
    "\n",
    "Suppose we want to very accurately compute the area of a circle with a radius of 5 meters.  For that, we need the constant $\\pi$, which is roughly 3.14.  Conveniently, the `math` module has `pi` defined for us.\n",
    "\n",
    "Run the cell below, but please **do not** change it."
   ]
  },
  {
   "cell_type": "code",
   "execution_count": null,
   "id": "84fce42d-a5ee-430a-ae51-f415168c1f7f",
   "metadata": {},
   "outputs": [],
   "source": [
    "import math\n",
    "\n",
    "radius = 5\n",
    "area_of_circle = radius**2*math.pi\n",
    "area_of_circle"
   ]
  },
  {
   "cell_type": "markdown",
   "id": "b02457fd-65a1-4dbf-98b9-2202e4882d56",
   "metadata": {
    "tags": []
   },
   "source": [
    "In the code above, the line `import math` imports the math module. This statement creates a module and then assigns the name `math` to that module. We are now able to access any variables or functions defined within `math` by typing the name of the module followed by a dot, then followed by the name of the variable or function we want."
   ]
  },
  {
   "cell_type": "markdown",
   "id": "08de46ab-74fd-4234-ae5c-aac707d8f0c6",
   "metadata": {},
   "source": [
    "**Question 1.** The module `math` also provides the name `e` for the base of the natural logarithm, which is roughly 2.71.  Compute $e^{\\pi}-\\pi$, giving it the name `near_twenty`."
   ]
  },
  {
   "cell_type": "code",
   "execution_count": null,
   "id": "0ffb3ce9-e7a1-4992-8a42-dfa9c66ed258",
   "metadata": {
    "tags": []
   },
   "outputs": [],
   "source": [
    "near_twenty =...\n",
    "near_twenty "
   ]
  },
  {
   "cell_type": "markdown",
   "id": "7fef4e19-7211-4bd6-83d2-46f894f09003",
   "metadata": {
    "tags": []
   },
   "source": [
    "In the question above, you accessed variables within the `math` module. \n",
    "\n",
    "Modules also define functions.  For example, `math` provides the name `sin` for the sine function.  Having imported `math` already, we can write `math.sin(3)` to compute the sine of 3.\n",
    "\n",
    "**Note:** This sine function considers its argument to be in [radians](https://en.wikipedia.org/wiki/Radian), not degrees. 180 degrees are equivalent to $\\pi$ radians."
   ]
  },
  {
   "cell_type": "markdown",
   "id": "8d29c9b7-eefc-4b0c-b0d4-bc01ac55d7c9",
   "metadata": {
    "tags": []
   },
   "source": [
    "**Question 2.** A $\\frac{\\pi}{4}$ radian (45-degree) angle forms a right triangle with equal base and height, pictured below.  If the hypotenuse (the radius of the circle in the picture) is 1, then the height is $\\sin\\left(\\frac{\\pi}{4}\\right)$.  Compute that value using `sin` and `pi` from the `math` module.  Give the result the name `sine_of_pi_over_four`.\n",
    "\n",
    "<img src=\"http://mathworld.wolfram.com/images/eps-gif/TrigonometryAnglesPi4_1000.gif\">\n",
    "\n",
    "**Source:** [Wolfram MathWorld](http://mathworld.wolfram.com/images/eps-gif/TrigonometryAnglesPi4_1000.gif)"
   ]
  },
  {
   "cell_type": "code",
   "execution_count": null,
   "id": "dff6ab2e-31de-4ce8-8384-cdb362e2c3ec",
   "metadata": {
    "tags": []
   },
   "outputs": [],
   "source": [
    "sine_of_pi_over_four = ...\n",
    "sine_of_pi_over_four"
   ]
  },
  {
   "cell_type": "markdown",
   "id": "eb7851e0-0479-49b8-a32b-fc19e6226343",
   "metadata": {
    "id": "H8VoDsycgXss"
   },
   "source": [
    "For your reference, the cells below demonstrate some more examples of functions from the `math` module.\n",
    "\n",
    "Notice how different functions take in different numbers of arguments. Often, the [documentation](https://docs.python.org/3/library/math.html) of the module will provide information on how many arguments are required for each function.\n",
    "\n",
    "Run the cell below."
   ]
  },
  {
   "cell_type": "code",
   "execution_count": null,
   "id": "0d5334d6-61a5-49fd-9cf0-6b300f87c107",
   "metadata": {
    "id": "j4014fPQgXst",
    "outputId": "b9784df5-e804-46f8-96b1-e8699f0f3282"
   },
   "outputs": [],
   "source": [
    "# Calculating logarithms (the logarithm of 8 in base 2)\n",
    "# The result is 3 because 2 to the power of 3 is 8\n",
    "math.log(8, 2)"
   ]
  },
  {
   "cell_type": "markdown",
   "id": "34cf49ab-3883-4aac-8203-de328d3618d4",
   "metadata": {
    "id": "YpLfOCiogXsz"
   },
   "source": [
    "Run the cell below."
   ]
  },
  {
   "cell_type": "code",
   "execution_count": null,
   "id": "1941f6f2-e5da-4751-abce-4c4615928998",
   "metadata": {
    "id": "Nwn8DtQpgXs0",
    "outputId": "783ac633-3ec0-4d7e-90f6-5420561cf7e1"
   },
   "outputs": [],
   "source": [
    "# Calculating square roots\n",
    "math.sqrt(5)"
   ]
  },
  {
   "cell_type": "markdown",
   "id": "26c9da55-7f21-486d-9dea-19443d81b5db",
   "metadata": {
    "id": "iTBcquQpgXs4"
   },
   "source": [
    "There are various ways to import and access code from outside sources. The method we used above — `import <module_name>` — imports the entire module and requires that we use `<module_name>.<name>` to access its code. \n",
    "\n",
    "We can also import a specific constant or function instead of the entire module. Notice that you don't have to use the module name beforehand to reference that particular value. However, you do have to be careful about reassigning the names of the constants or functions to other values.\n",
    "\n",
    "Run the cell below."
   ]
  },
  {
   "cell_type": "code",
   "execution_count": null,
   "id": "4aac63d9-ef92-4906-beca-544b22b67c9b",
   "metadata": {
    "id": "GKxZL2RygXs5",
    "outputId": "ffb394b1-947d-4108-b937-dd73450a077b"
   },
   "outputs": [],
   "source": [
    "# Importing just cos and pi from math\n",
    "# We don't have to use `math.` in front of cos or pi\n",
    "\n",
    "from math import cos, pi\n",
    "print(cos(pi))\n",
    "\n",
    "# We do have to use it in front of other functions from math, though\n",
    "math.log(pi)"
   ]
  },
  {
   "cell_type": "markdown",
   "id": "e10eea9f-eea2-436a-bc94-bb59b66c6e91",
   "metadata": {
    "id": "aPhaMtM3gXs8"
   },
   "source": [
    "Or we can import every function and value from the entire module.\n",
    "\n",
    "Run the cell below."
   ]
  },
  {
   "cell_type": "code",
   "execution_count": null,
   "id": "923e6723-87dc-4072-9f8f-29279081fd39",
   "metadata": {
    "id": "IYmmtADEgXs8",
    "outputId": "642cbbda-4a8f-40f3-9733-be7991b6f515"
   },
   "outputs": [],
   "source": [
    "# Lastly, we can import everything from math using the *\n",
    "# Once again, we don't have to use 'math.' beforehand \n",
    "\n",
    "from math import *\n",
    "log(pi)"
   ]
  },
  {
   "cell_type": "markdown",
   "id": "3bc2f097-7861-4857-8264-28d81c9cb41e",
   "metadata": {
    "id": "fq6QWeRqgXtA",
    "tags": []
   },
   "source": [
    "Don't worry too much about which type of import to use. It's often a coding style choice left up to each programmer. In this course, you'll always import the necessary modules when you run the setup cell (like the first code cell in this lab)."
   ]
  },
  {
   "cell_type": "markdown",
   "id": "78673254-c400-4358-bf69-153f6d745520",
   "metadata": {
    "tags": []
   },
   "source": [
    "### Magic Commands\n",
    "\n",
    "`%matplotlib inline` is a Jupyter magic command that configures the notebook so that Matplotlib displays any plots that you draw directly in the notebook rather than to a file, allowing you to view the plots upon executing your code.\n",
    "\n",
    "Run the cell below. (Nothing will appear to happen, but it will allow us to easily make graphs later in the lab.)"
   ]
  },
  {
   "cell_type": "code",
   "execution_count": null,
   "id": "36121626-fdbf-497a-b574-7bb43cb7c099",
   "metadata": {},
   "outputs": [],
   "source": [
    "import matplotlib.pyplot as plt\n",
    "plt.style.use(\"fivethirtyeight\")\n",
    "%matplotlib inline"
   ]
  },
  {
   "cell_type": "markdown",
   "id": "6adc7e6c-1d41-4d4c-90c3-12ad1cce302e",
   "metadata": {},
   "source": [
    "Another useful magic command is `%%time`, which times the execution of that cell. You can use this by writing it as the first line of a cell.\n",
    "\n",
    "**Note:** `%%` is used for cell magic commands that apply to the entire cell, whereas `%` is used for line magic commands that only apply to a single line."
   ]
  },
  {
   "cell_type": "code",
   "execution_count": null,
   "id": "5d7d2d62-f0be-40ae-a4d1-cf3cac4d764b",
   "metadata": {
    "tags": []
   },
   "outputs": [],
   "source": [
    "%%time\n",
    "\n",
    "# Initialize an empty list\n",
    "my_list = []\n",
    "\n",
    "for i in range(100):  # for loop to iterate through the values 0 to 99\n",
    "    my_list.append(i) # The .append method will add an item to the end of a list "
   ]
  },
  {
   "cell_type": "markdown",
   "id": "5e3a3307-0bbb-4d8a-8408-c4b421df6368",
   "metadata": {},
   "source": [
    "## 2. Collections of Elements\n",
    "\n",
    "The cell above uses a list, a `for` loop, the `range` function, and the `.append()` method.\n",
    "\n",
    "#### Lists \n",
    "\n",
    "* Lists are used to store multiple items in a single variable. \n",
    "\n",
    "* Lists are a built-in data type in Python used to store collections of data.\n",
    ".\n",
    "* Lists may contain different types\n",
    "\n",
    "* List items are ordered, changeable, and allow duplicate values. \n",
    "\n",
    "* List items are indexed, the first item has index `[0]`, the second item has index `[1]` etc\n",
    "\n",
    "* Lists are created using square brackets. For example, `my_list = [2, 3, 5, 7, 11]`, is a list of the first 5 prime numbers.\n",
    "\n",
    "#### `for` loop\n",
    "\n",
    "* A `for` loop is used for iterating over a sequence (like a list).\n",
    "\n",
    "* A `for` loop will execute a set of statements, once for each item in a sequence (like a list).\n",
    "\n",
    "#### `range`\n",
    "\n",
    "* The `range()` function returns a sequence of numbers, starting from 0 by default, and increments by 1 (by default), and stops before a specified number. The syntax for the `range()` function is `range(start, stop, step)`.\n",
    "\n",
    "#### `.append()`\n",
    "\n",
    "* The `.append()` method will \"append\" an item to the end of a list (we will cover this method in more detail later)."
   ]
  },
  {
   "cell_type": "markdown",
   "id": "8d37a1dd-4afc-4a6c-8b5c-b1ebbb881f72",
   "metadata": {
    "tags": []
   },
   "source": [
    "**Question 3.** Use the `range()` function to generate a list of the first 100 odd integers. Save the list of numbers to `first100_odd_integers`.\n",
    "\n",
    "**Hint:** Review the syntax of the `range()` function. "
   ]
  },
  {
   "cell_type": "code",
   "execution_count": null,
   "id": "48ee6476-4bcf-43ce-8804-1c6d9809fa9a",
   "metadata": {
    "tags": []
   },
   "outputs": [],
   "source": [
    "first100_odd_integers = ...\n"
   ]
  },
  {
   "cell_type": "markdown",
   "id": "7a6367b1-9037-460c-90e4-8abdfe979b36",
   "metadata": {},
   "source": [
    "The output from **Question 3.** looked like this\n",
    "\n",
    "```\n",
    "range(1, 201, 2)\n",
    "```\n",
    "\n",
    "When we ran the code cell the variable name `first100_odd_integers` was on the last line. We didn't see the list of numbers, only what was on the right of the equal sign. If we want to see actual list of numbers we can use a `for` loop.\n",
    "\n",
    "Run the cell below."
   ]
  },
  {
   "cell_type": "code",
   "execution_count": null,
   "id": "65accd19-a0c1-479c-b603-652f6086f2c9",
   "metadata": {},
   "outputs": [],
   "source": [
    "for number in range(1, 201, 2):\n",
    "    print(number)"
   ]
  },
  {
   "cell_type": "markdown",
   "id": "97eadfbe-d31a-4620-bc36-edb4bc0ade6d",
   "metadata": {},
   "source": [
    "`for` loops are used when you have a block of code which you want to repeat a fixed number of times. The `for` loop is always used in combination with an iterable object, like a *list* or a *range*. The Python `for` statement iterates over the members of a sequence in order, executing the block each time.\n",
    "\n",
    "In the `for` loop in the previous code cell the name `number` is used as a container for each element in the range of odd integers from 1 to 199. The value of `number` is updated each time the loop iterates over the range of odd integers. The choice of the name `number` is nothing special. We could have used any acceptable Python name. For example, we could have written\n",
    "\n",
    "```\n",
    "for i in range(1, 201, 2):\n",
    "    print(i)\n",
    "```\n",
    "\n",
    "As long as the name is valid meaning it only consists of:\n",
    "\n",
    "* uppercase and lowercase letters ( A-Z , a-z )\n",
    "\n",
    "* digits ( 0-9 )\n",
    "\n",
    "* the underscore character ( _ )\n",
    "\n",
    "and \n",
    "\n",
    "* doesn't start with a digit (0-9) \n",
    "\n",
    "we can use it."
   ]
  },
  {
   "cell_type": "markdown",
   "id": "501c631c-272c-4a79-b2b6-b5e5ca331632",
   "metadata": {
    "tags": []
   },
   "source": [
    "## 3. `Numpy`\n",
    "\n",
    "It seems that it would be beneficial to be able to view our list of values without having to resort to writing a `for` loop.\n",
    "\n",
    "In our class we will do a lot computations and plotting. Thus, we need to be able to work with lists of numbers. To work with lists of numbers we will use the `NumPy` library. \n",
    "\n",
    "#### What is `NumPy`?\n",
    "\n",
    "`NumPy` is a library for the Python programming language, adding support for large, multi-dimensional arrays and matrices, along with a large collection of high-level mathematical functions to operate on these arrays. `NumPy` (Numerical Python) is an open source Python library that’s used in almost every field of science and engineering.  Click [here](https://numpy.org/doc/stable/user/absolute_beginners.html) to read more about the  basics for beginners. \n",
    "\n",
    "Let's import the library by running the cell below."
   ]
  },
  {
   "cell_type": "code",
   "execution_count": null,
   "id": "5b2ec28e-3518-48d0-8b57-bc0c8f01f529",
   "metadata": {
    "tags": []
   },
   "outputs": [],
   "source": [
    "import numpy as np"
   ]
  },
  {
   "cell_type": "markdown",
   "id": "a348fdc9-0f7d-4932-849c-d838ca84dd0a",
   "metadata": {},
   "source": [
    "Let's make an array of numbers from 0.1 to 1.0 including the endpoints."
   ]
  },
  {
   "cell_type": "code",
   "execution_count": null,
   "id": "d76f41fc-f728-4054-8150-305ccce37c69",
   "metadata": {
    "tags": []
   },
   "outputs": [],
   "source": [
    "np.arange(0.1, 1.1, 0.1)"
   ]
  },
  {
   "cell_type": "markdown",
   "id": "fabb1dd3-8a3d-4135-9a6c-808952f95431",
   "metadata": {},
   "source": [
    "To use the `arange` function from the `NumPy` library need to put the `np` alias in front of the function name. The syntax for the `np.arange` function is similar to the `range` function.\n",
    "\n",
    "```\n",
    "arange([start,] stop[, step,][, dtype])\n",
    "```\n",
    "\n",
    "* start : [optional] start of interval range. By default start=0\n",
    "\n",
    "* stop  : end of interval range\n",
    "\n",
    "* step  : [optional] step size of interval. By default step size=1.\n",
    "\n",
    "* dtype : type of output array"
   ]
  },
  {
   "cell_type": "markdown",
   "id": "11f15ae6-2fe9-429f-843d-8c7459683064",
   "metadata": {
    "tags": []
   },
   "source": [
    "**Question 4.** Use the `np.arange()` function to generate a list of the first 100 even integers. Save the list of numbers to `first100_even_integers`.\n",
    "\n",
    "**Hint:** Review the syntax of the `np.arange()` function. "
   ]
  },
  {
   "cell_type": "code",
   "execution_count": null,
   "id": "2ea2a110-6a98-43b0-a17e-7d77892ce031",
   "metadata": {
    "tags": []
   },
   "outputs": [],
   "source": [
    "first100_even_integers = \n",
    "first100_even_integers"
   ]
  },
  {
   "cell_type": "markdown",
   "id": "3774111a-887a-4b17-a77b-72e73e59283a",
   "metadata": {},
   "source": [
    "Notice how the values get displayed when we run the code cell. \n",
    "\n",
    "Another great benefit of an array is the ability to do *element-wise* operations. Run the next three cells to see examples."
   ]
  },
  {
   "cell_type": "code",
   "execution_count": null,
   "id": "c4ddf24c-a611-4ff8-805d-b733016aa493",
   "metadata": {},
   "outputs": [],
   "source": [
    "# Create an array of numbers from 0 to 200\n",
    "numbers = np.arange(1, 201)\n",
    "\n",
    "# Divide each element by 100\n",
    "numbers/100"
   ]
  },
  {
   "cell_type": "code",
   "execution_count": null,
   "id": "009b22b5-cc45-4b8a-924c-745a433ed5bd",
   "metadata": {},
   "outputs": [],
   "source": [
    "# Take the log base 10 of each element\n",
    "np.log10(numbers)"
   ]
  },
  {
   "cell_type": "code",
   "execution_count": null,
   "id": "8d45a096-b036-4a6f-9562-17a0b0ba6a09",
   "metadata": {
    "tags": []
   },
   "outputs": [],
   "source": [
    "# Take the squre root of each element\n",
    "numbers**(1/2)"
   ]
  },
  {
   "cell_type": "markdown",
   "id": "d9a95c2a-4e1c-461e-ab1d-bf9bb4b78d37",
   "metadata": {},
   "source": [
    "**Question 5.**  Use `np.arange` and the exponentiation operator `**` to compute the first 30 powers of 2, **starting from $2^0$**. Save this to `powers_of_2`.\n",
    "\n",
    "**Hint:** Part of your solution will involve `np.arange`, but your array shouldn't have more than 30 elements.\n",
    "\n",
    "**Warning:** `np.arange(1, 2**30, 1)` creates an array with $2^{30}$ elements and **will crash your kernel** and you will need to start over. "
   ]
  },
  {
   "cell_type": "code",
   "execution_count": null,
   "id": "0a6fae63-bf61-4fef-8f7a-94551819df8f",
   "metadata": {
    "tags": []
   },
   "outputs": [],
   "source": [
    "powers_of_2 = ...\n",
    "powers_of_2"
   ]
  },
  {
   "cell_type": "markdown",
   "id": "71aa45ed-2c0d-44cf-bfc2-6899803e9f4b",
   "metadata": {
    "tags": []
   },
   "source": [
    "## 4. Plotting Graphs\n",
    "\n",
    "### Matplotlib\n",
    "\n",
    "I encourage you to take time to go through the `pyplot` tutorial. You can find it [here](https://matplotlib.org/stable/tutorials/introductory/pyplot.html) - it shows some examples that are worth looking at. We've already imported the `matplotlib` library earlier in the notebook.\n",
    "\n",
    "```\n",
    "import matplotlib.pyplot as plt\n",
    "plt.style.use(\"fivethirtyeight\")\n",
    "%matplotlib inline\n",
    "```\n",
    "\n",
    "**Note:** The tutorial uses `np.arange`, which returns an array that steps from $a$ to $b$ with a fixed step size $s$. While this is fine in some cases, we sometimes prefer to use `np.linspace(a, b, N)`, which divides the interval $[a, b]$ into $N$ equally spaced points.\n",
    "\n",
    "For example, `np.linspace` always includes both end points while `np.arange` will not include the second end point $b$. For this reason, when we are plotting ranges of values we tend to prefer `np.linspace`.\n",
    "\n",
    "Notice how the following two statements have different parameters but return the same result."
   ]
  },
  {
   "cell_type": "code",
   "execution_count": null,
   "id": "0e8a2a4b-dfff-44d1-b394-35432b66e8e4",
   "metadata": {},
   "outputs": [],
   "source": [
    "np.arange(-5, 6, 1.0)"
   ]
  },
  {
   "cell_type": "code",
   "execution_count": null,
   "id": "fb274906-1332-4bf7-969a-b1139dae62f0",
   "metadata": {},
   "outputs": [],
   "source": [
    "np.linspace(-5, 5, 11)"
   ]
  },
  {
   "cell_type": "markdown",
   "id": "e635335b-12e2-4427-b9d5-6a1634f972bf",
   "metadata": {},
   "source": [
    "<!-- BEGIN QUESTION -->\n",
    "\n",
    "**Question 6.** Let's visualize the function $f(t) = 3\\sin(2\\pi t)$.\n",
    "\n",
    "- Set the $x$ limit of all figures to $[0, \\pi]$ and the $y$ limit to $[-10, 10]$. \n",
    "\n",
    "- Plot the sine function using `plt.plot` with 30 red plus signs. \n",
    "\n",
    "- Make sure the $x$ ticks are labeled $\\left[0, \\frac{\\pi}{2}, \\pi\\right]$, and that your axes are labeled as well. \n",
    "\n",
    "\n",
    "**Documentation:** Click [here](https://matplotlib.org/2.0.2/api/pyplot_api.html) to use the `matplotlib` documentation for reference.\n",
    "\n",
    "**Hints:** \n",
    "\n",
    "* You can set axis bounds with `plt.axis`.\n",
    "\n",
    "* You can set `xticks` and labels with `plt.xticks`.\n",
    "\n",
    "* Make sure you add `plt.xlabel`, `plt.ylabel`, and `plt.title`."
   ]
  },
  {
   "cell_type": "code",
   "execution_count": null,
   "id": "31b283c7-eac5-4867-a9c1-0205aa5e0519",
   "metadata": {
    "tags": []
   },
   "outputs": [],
   "source": [
    "t = ...\n",
    "y = 3*np.sin(2*math.pi*t)\n",
    "\n",
    "plt.ylim((..., ...))\n",
    "plt.scatter(t, y, marker = ..., c = ..., linewidth=1)\n",
    "plt.xticks([0, math.pi/2, math.pi],[r'$0$', r'$\\pi/2$', r'$\\pi$'])\n",
    "plt.xlabel('t')\n",
    "plt.ylabel('f(t)')\n",
    "plt.title('f(t) = 3sin(2$\\pi$t)');"
   ]
  },
  {
   "cell_type": "markdown",
   "id": "cd438d14-11e7-4912-9777-1df0d6c87614",
   "metadata": {
    "tags": []
   },
   "source": [
    "## 5. Taylor Polynomials\n",
    "\n",
    "**Taylor’s Formula:** If $f(x)$ has derivatives of all orders in a n open interval $I$ containing $a$, then for each positive integer $n$ and for each \n",
    "$x \\in I$, $$f(x) = f(a)+f'(a)(x-a)+ \\frac{f''(a)}{2!}(x-a)^2 + \\cdots + \\frac{f^{(n)}(a)}{n!}(x-a)^n+R_n(x),$$ where $$R_n(x)=\\frac{f^{(n+1)}(c)}{(n+1)!}(x-a)^{(n+1)}$$ for some $c$ between $a$ and $x$.\n",
    "\n",
    "The function $R_n(x)$ is called the remainder of order $n$ or the error term for the approximation of $f(x)$ by $P_n(x)$ over $I$."
   ]
  },
  {
   "cell_type": "markdown",
   "id": "4d28bba1-5bea-4013-b6ad-59c0ac920479",
   "metadata": {},
   "source": [
    "**Question 7.** Use a `for` loop to use a Taylor Polynomial to approximate $e^{0.9}$. Use a degree-8 polynomial centered at $x=0$. Write your code so that it outputs the polynomial approximation, the \"actual\" value (according to Python), and the error."
   ]
  },
  {
   "cell_type": "code",
   "execution_count": null,
   "id": "6728bd7a-d07e-4f85-bd2f-4d153d7710ae",
   "metadata": {},
   "outputs": [],
   "source": [
    "# Write your code for #7 in this cell\n",
    "\n"
   ]
  },
  {
   "cell_type": "markdown",
   "id": "0d5e3b1d-6fd6-4785-90cd-94229599764a",
   "metadata": {},
   "source": [
    "**Question 8.** Remember the error term for the Taylor Polynomial for $e^x$ is $\\frac{e^c x^n}{n!}$. Since $e^{0.9}$ is clearly no more than 3, assume $e^c<3$ (similar to how we assumed $cos(c)<1$). Write a for loop that outputs the error bound for values of $n$ from 0 to 10."
   ]
  },
  {
   "cell_type": "markdown",
   "id": "2f3e57f2-f06c-4838-9643-da919e725818",
   "metadata": {
    "editable": false,
    "tags": []
   },
   "source": [
    "---\n",
    "\n",
    "To double-check your work, the cell below will rerun all of the autograder tests."
   ]
  },
  {
   "cell_type": "code",
   "execution_count": null,
   "id": "abeb99be-255c-4032-be42-20bb68a6b1fe",
   "metadata": {},
   "outputs": [],
   "source": [
    "# Write your code for #8 in this cell\n",
    "\n"
   ]
  },
  {
   "cell_type": "markdown",
   "id": "a79ef13b-fe82-41cb-8dda-43a01c222519",
   "metadata": {
    "tags": []
   },
   "source": [
    "## 6. Submitting your work\n",
    "You're done with Lab 01! Submit your work by doing the following:\n",
    "\n",
    "* Save your notebook\n",
    "\n",
    "* Restart the kernel and run all cells.\n",
    "\n",
    "* Right-click the `lab01` file in the navigation pane, then click \"download.\"\n",
    "\n",
    "* Upload the file you just downloaded to the Lab 01 assignment to Gradescope for Grading."
   ]
  }
 ],
 "metadata": {
  "kernelspec": {
   "display_name": "Python 3 (ipykernel)",
   "language": "python",
   "name": "python3"
  },
  "language_info": {
   "codemirror_mode": {
    "name": "ipython",
    "version": 3
   },
   "file_extension": ".py",
   "mimetype": "text/x-python",
   "name": "python",
   "nbconvert_exporter": "python",
   "pygments_lexer": "ipython3",
   "version": "3.11.5"
  }
 },
 "nbformat": 4,
 "nbformat_minor": 5
}
