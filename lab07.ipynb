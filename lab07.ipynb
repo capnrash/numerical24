{
 "cells": [
  {
   "cell_type": "markdown",
   "id": "cf8c6e94-1fc2-42e3-8021-69460fff12df",
   "metadata": {},
   "source": [
    "# Lab 7: Numerical Integration (#1)\n",
    "\n",
    "Welcome to Lab 07! Throughout the course you will complete a lab assignments like this one. You can't learn technical subjects without hands-on practice, so labs are an important part of the course.\n",
    "\n",
    "Collaborating on labs is more than okay -- it's encouraged. You should rarely remain stuck for more than a few minutes on questions in labs, so ask a neighbor or an instructor for help. Explaining things is beneficial, too -- the best way to solidify your knowledge of a subject is to explain it. You should **not** just copy/paste someone else's code, but rather work together to gain understanding of the task you need to complete. \n",
    "\n",
    "In today's lab, you'll learn:\n",
    "\n",
    "- How to implement several familiar numerical integration techniques\n",
    "\n",
    "- More about the error associated with each technique\n",
    "\n",
    "\n",
    "To receive credit for a lab, answer all questions correctly and submit before the deadline.\n",
    "\n",
    "**Due Date:** Monday, April 22, 2024 at 4:59 pm\n",
    "\n",
    "**Collaboration Policy:** Labs are a collaborative activity. While you may talk with others about the labs, we ask that you **write your solutions individually**. If you do discuss the assignments with others **please include their names below**.\n",
    "\n",
    "**Collaborators:** \n",
    "\n",
    "List collaborators here."
   ]
  },
  {
   "cell_type": "markdown",
   "id": "3ced52c9-a7bc-4559-9c29-03e2c095d9ec",
   "metadata": {},
   "source": [
    "## 1. Integration Review\n",
    "\n",
    "**Question #1** Evaluate each of the following definite integrals by finding the antiderivative and using the Fundamental Theorem of Calculus:\n",
    "1. $\\displaystyle \\int_0^{\\frac{\\pi}{2}} \\cos x \\ dx$\n",
    "2. $\\displaystyle \\int_0^{\\frac{\\pi}{2}} \\sin^2 x \\ \\cos x \\ dx$\n",
    "3. $\\displaystyle \\int_0^1 x \\cdot e^x \\ dx$\n",
    "\n",
    "Be sure to show \"enough\" work - at a minimum, show the antiderivative as well as the final result. (If you prefer to work on paper, you may take a picture of your work but please upload that picture to a google doc or other sharing service, and include a link here.)\n"
   ]
  },
  {
   "cell_type": "markdown",
   "id": "4e880808-90ef-4bf7-89ef-440c7efc660f",
   "metadata": {},
   "source": [
    "_put your answers to #1 (or link to google doc with answers to #1) here_"
   ]
  },
  {
   "cell_type": "markdown",
   "id": "2128cfae-9c98-4ad3-b3fd-d64d5e46e335",
   "metadata": {},
   "source": [
    "## 2. Python Review\n",
    "\n",
    "It seems it's been a while since we've used Python much in this class, so a little review may be a good idea!\n",
    "\n",
    "The `np.linspace()` function returns evenly spaced numbers over a specified interval. For example, \n",
    "\n",
    "`np.linspace(2, 3, 5)` \n",
    "\n",
    "would return \n",
    "\n",
    "`array([2., 2.25, 2.5 , 2.75, 3.])`. \n",
    "\n",
    "Since this is an array object we can iterate over each element. Remember, Python gives the index value 0 for the first element. For example, if we saved our array to `x`\n",
    "\n",
    "`x = np.linspace(2, 3, 5)` \n",
    "\n",
    "then evaluated\n",
    "\n",
    "`x[1]`\n",
    "\n",
    "we would get 2.25. If instead we wanted the first element, then we would need to evaluate `x[0]`.\n",
    "\n",
    "Try it for yourself."
   ]
  },
  {
   "cell_type": "code",
   "execution_count": null,
   "id": "6f91a101-9aa2-4791-80ce-2ca5e64c16f6",
   "metadata": {},
   "outputs": [],
   "source": [
    "import numpy as np\n",
    "import matplotlib.pyplot as plt\n",
    "plt.style.use('seaborn-v0_8-whitegrid')\n",
    "%matplotlib inline\n",
    "\n",
    "x = np.linspace(2, 3, 5)\n",
    "x[1]"
   ]
  },
  {
   "cell_type": "markdown",
   "id": "bc46bfcd-e1fa-41c7-8f44-df0b831616b7",
   "metadata": {},
   "source": [
    "If we wanted to iterate over all the items we can run\n",
    "\n",
    "```\n",
    "for i in x:\n",
    "    print(i)\n",
    "    \n",
    "2.0\n",
    "2.25\n",
    "2.5\n",
    "2.75\n",
    "3.0\n",
    "```\n",
    "\n",
    "or, to iterate over a subset of the items we can run\n",
    "\n",
    "```\n",
    "for i in x[1:3]:\n",
    "    print(i)\n",
    "    \n",
    "2.25\n",
    "2.5\n",
    "```\n",
    "\n",
    "notice that item 3 (i.e., the fourth item in the array 2.75) is not included.\n",
    "\n",
    "Try it for yourself."
   ]
  },
  {
   "cell_type": "code",
   "execution_count": null,
   "id": "9043b52e-4c24-4303-beee-7ab0dc9a1ae3",
   "metadata": {},
   "outputs": [],
   "source": [
    "for i in x:\n",
    "    print(i)"
   ]
  },
  {
   "cell_type": "markdown",
   "id": "0ebc60c5-32d0-4df4-a197-7845c8ea20a0",
   "metadata": {},
   "source": [
    "We can use an array to provide the inputs for a `lambda` function. Remember the syntax for a `lambda` function is \n",
    "\n",
    "```\n",
    "f = lambda x: x**2\n",
    "```\n",
    "\n",
    "If we define `f` we input the values from our array into `f`\n",
    "\n",
    "\n",
    "```\n",
    "for i in x:\n",
    "    print(f(i))\n",
    "\n",
    "4.0\n",
    "5.0625\n",
    "6.25\n",
    "7.5625\n",
    "9.0\n",
    "```\n",
    "\n",
    "Try it and see."
   ]
  },
  {
   "cell_type": "code",
   "execution_count": null,
   "id": "3ef7afc2-4f14-4402-9145-41ad1ecd80ef",
   "metadata": {},
   "outputs": [],
   "source": [
    "f = lambda x: x**2\n",
    "\n",
    "for i in x:\n",
    "    print(f(i))"
   ]
  },
  {
   "cell_type": "markdown",
   "id": "ece0466c-137a-4ec4-8e06-951d76c386dc",
   "metadata": {},
   "source": [
    "Throughout this notebook you can use `np.linspace` and `lambda` functions to help you complete the exercises. \n",
    "\n",
    "**Note:** There are other methods that can be used to accomplish the same task. Feel free to use other methods, if you have experience using Python and prefer other methods."
   ]
  },
  {
   "cell_type": "markdown",
   "id": "327d7d1c-439e-46ee-9c55-c1d3adae0217",
   "metadata": {},
   "source": [
    "## 3. Graphing\n",
    "\n",
    "Let's write a lambda function that we can use to graph each function over its interval of integration.\n",
    "\n",
    "**Question 2.** Write a lambda function and sketch the graph of $f_1(x)=\\cos x$ from $0$ to $\\pi/2$.\n",
    "\n",
    "**Hint:** Use cosine from numpy (i.e., `np.cos`)"
   ]
  },
  {
   "cell_type": "code",
   "execution_count": null,
   "id": "517552c2-c7a5-47fb-a1ca-160224fa7a2a",
   "metadata": {},
   "outputs": [],
   "source": [
    "## put code for #2 here"
   ]
  },
  {
   "cell_type": "markdown",
   "id": "0fa27e1a-3c50-47bf-a717-2d26404a5664",
   "metadata": {},
   "source": [
    "**Question 3.** Write a lambda function to sketch the graph of $f_2(x)=\\sin^2 x \\cos x$ from $0$ to $\\pi/2$.\n",
    "\n",
    "**Hint:** Use sine and cosine from numpy (i.e., `np.sin` and `np.cos`)"
   ]
  },
  {
   "cell_type": "code",
   "execution_count": null,
   "id": "fc317cad-c34d-44d4-8ee7-7d401e8131db",
   "metadata": {
    "tags": []
   },
   "outputs": [],
   "source": [
    "## put code for #3 here"
   ]
  },
  {
   "cell_type": "markdown",
   "id": "fa0e2fed-709e-4c92-8782-0ecebae28605",
   "metadata": {},
   "source": [
    "**Question 4.**  Write a lambda function to sketch the graph of $f_3(x)=x \\cdot e^x$ from 0 to 1.\n",
    "\n",
    "**Hint:** Use $e$ from numpy (i.e., `np.exp`)"
   ]
  },
  {
   "cell_type": "code",
   "execution_count": null,
   "id": "a8f5831a-a37c-44fa-ac19-57adfb023909",
   "metadata": {},
   "outputs": [],
   "source": [
    "## put code for #4 here"
   ]
  },
  {
   "cell_type": "markdown",
   "id": "ea5a0aab-c041-4806-8725-3ff76c7f6ef2",
   "metadata": {},
   "source": [
    "## 4. Numerical Integration\n",
    "\n",
    "Given below is a Python function to approximate a definite integral using the left-hand sum. Read it to see how it works, as you may use it as a template for later functions (if you wish to do so)."
   ]
  },
  {
   "cell_type": "code",
   "execution_count": null,
   "id": "881b2947-7259-43f9-a7b7-3b20bd81b2ef",
   "metadata": {},
   "outputs": [],
   "source": [
    "def left_sum(a, b, n, f):\n",
    "    \"\"\"\n",
    "    Purpose\n",
    "    -------\n",
    "    Compute the left-hand sum\n",
    "    \n",
    "    Parameters\n",
    "    ----------\n",
    "    a: Start x-value\n",
    "    b: End x-value\n",
    "    n: Number of subintervals\n",
    "    f: Lambda function for f\n",
    "    \n",
    "    Returns\n",
    "    -------\n",
    "    Numerical approximation of the definite integral\n",
    "    \"\"\"\n",
    "    sum = 0\n",
    "    deltax = (b-a)/n\n",
    "    x = np.linspace(a, b, n+1)\n",
    "    for i in x[0:n]:\n",
    "        sum += f(i)*deltax\n",
    "    return sum\n",
    "\n",
    "f = lambda x : x*np.exp(x)\n",
    "print(left_sum(0, 1, 20, f))"
   ]
  },
  {
   "cell_type": "markdown",
   "id": "8a1eea4e-5b6f-4970-a9cf-0a7546a86811",
   "metadata": {},
   "source": [
    "**Question 5.** Write a function to approximate a definite integral using the right-hand sum. Use it to approximate each of the 3 integrals at the beginning of the lab; for each use 10 subintervals."
   ]
  },
  {
   "cell_type": "code",
   "execution_count": null,
   "id": "a320299d-e994-4c14-bd05-c5aefba4faae",
   "metadata": {},
   "outputs": [],
   "source": [
    "## put code for #5 here"
   ]
  },
  {
   "cell_type": "markdown",
   "id": "9840c914-774e-47bb-a9ea-065155e291db",
   "metadata": {},
   "source": [
    "**Question 6.** Write a function to approximate a definite integral using the trapezoid rule. Use it to approximate each of the 3 integrals at the beginning of the lab; for each use 10 subintervals."
   ]
  },
  {
   "cell_type": "code",
   "execution_count": null,
   "id": "eac7a242-83ae-42d1-acbb-c5e13b362ab1",
   "metadata": {},
   "outputs": [],
   "source": [
    "## put code for #6 here"
   ]
  },
  {
   "cell_type": "markdown",
   "id": "662f5d21-021e-4e7f-826c-b8c5d0c30f75",
   "metadata": {},
   "source": [
    "## 5. Error\n",
    "\n",
    "Now that we have python functions it is easy to perform our calculations using more subintervals. Let's investigate what happens to the errors when we increase the number of subintervals. Use the code cells to find the error for the given definite integral, for each of the given number of subintervals. Ideally, you should make a table that contains the number of subintervals, the approximation, and the error. As an example, left-hand sums for $\\displaystyle \\int_0^{\\frac{\\pi}{2}} \\cos x \\ dx$ are shown below.\n",
    "\n",
    "|**n**|**Approximation for n**|**Exact value - Approximation for n**|\n",
    "|-----|-----------------------|---------------------------------------|\n",
    "|2 |1.340758530667244 |-0.34075853066724404 |\n",
    "|4 |1.1834653418221375|-0.18346534182213747 |\n",
    "|8 |1.0949599423108507|-0.0949599423108507  |\n",
    "|16|1.048284065697413 |-0.04828406569741306 |\n",
    "|32|1.024342886926189 |-0.024342886926189022|\n",
    "\n",
    "**Note:** Feel free to use a spreadsheet or a calculator, if you prefer. Just make sure you enter your results in the notebook (via link to a google doc is fine). If you write code to print the output, you do not need to make a markdown table.\n",
    "\n",
    "**Question 7.** Approximate $\\displaystyle \\int_0^1 x \\cdot e^x \\ dx$, for $n=2,4,8,16,32$ using the left-hand sum."
   ]
  },
  {
   "cell_type": "code",
   "execution_count": null,
   "id": "d5dd675d-e407-41cd-baa3-b456b39d5f6c",
   "metadata": {},
   "outputs": [],
   "source": [
    "## put code for #7 here"
   ]
  },
  {
   "cell_type": "markdown",
   "id": "1cdede96-b8a0-4da5-ad95-62c5168191bf",
   "metadata": {},
   "source": [
    "You can use the blank markdown cell below to enter your table. If you need help making tables in markdown click [here](https://www.markdownguide.org/extended-syntax/) and scroll down to the section on **Tables**."
   ]
  },
  {
   "cell_type": "markdown",
   "id": "003f6fbb-1021-4c3b-974a-36a4df95d858",
   "metadata": {},
   "source": [
    "_or, use this markdown cell to make a table for #7_"
   ]
  },
  {
   "cell_type": "markdown",
   "id": "9e022341-42a0-4831-838b-921e276a9f55",
   "metadata": {},
   "source": [
    "**Question 8.** Approximate $\\displaystyle \\int_0^1 x \\cdot e^x \\ dx$, for $n=2,4,8,16,32$ using trapezoids."
   ]
  },
  {
   "cell_type": "code",
   "execution_count": null,
   "id": "d2f9aa1f-9a86-4ac8-8258-71ecaa6e4fb8",
   "metadata": {},
   "outputs": [],
   "source": [
    "## put code for #8 here"
   ]
  },
  {
   "cell_type": "markdown",
   "id": "5ea1e9ce-bc91-44a0-84b9-156f20c4bbdc",
   "metadata": {},
   "source": [
    "_or, use this markdown cell to make a table for #8_"
   ]
  },
  {
   "cell_type": "markdown",
   "id": "a25937db-baa8-4c9a-8f36-bee575efdbe2",
   "metadata": {},
   "source": [
    "**Question 9.** Look at how the error decreases (with increasing $n$) for left-hand sums and for trapezoid. More specifically, by approximately what factor does the error decrease for each method (as $n$ is doubled)? Based on what you know about error formulas, is this what you expect? Why?"
   ]
  },
  {
   "cell_type": "markdown",
   "id": "9a008444-de73-49be-8f50-02564a367973",
   "metadata": {},
   "source": [
    "_write your answer to #9 here_"
   ]
  },
  {
   "cell_type": "markdown",
   "id": "5a2dc936-4aad-4c5a-be78-24c9302b8b93",
   "metadata": {
    "tags": []
   },
   "source": [
    "## 5. Submitting your work\n",
    "You're done with Lab 07! Submit your work by doing the following:\n",
    "\n",
    "* Save your notebook\n",
    "\n",
    "* Restart the kernel and run all cells.\n",
    "\n",
    "* Right-click the `lab07` file in the navigation pane, then click \"download.\"\n",
    "\n",
    "* Upload the file you just downloaded to the Lab 07 assignment to Gradescope for Grading."
   ]
  }
 ],
 "metadata": {
  "kernelspec": {
   "display_name": "Python 3 (ipykernel)",
   "language": "python",
   "name": "python3"
  },
  "language_info": {
   "codemirror_mode": {
    "name": "ipython",
    "version": 3
   },
   "file_extension": ".py",
   "mimetype": "text/x-python",
   "name": "python",
   "nbconvert_exporter": "python",
   "pygments_lexer": "ipython3",
   "version": "3.11.5"
  }
 },
 "nbformat": 4,
 "nbformat_minor": 5
}
